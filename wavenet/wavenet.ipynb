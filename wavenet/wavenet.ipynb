{
 "cells": [
  {
   "cell_type": "markdown",
   "metadata": {},
   "source": [
    "# Part 1, Write the wavenet"
   ]
  },
  {
   "cell_type": "code",
   "execution_count": 2,
   "metadata": {},
   "outputs": [],
   "source": [
    "import torch\n",
    "import torchaudio\n",
    "import random\n",
    "import numpy\n",
    "import optuna\n",
    "\n",
    "#Pytorch does not have dilated causal convolutions available\n",
    "#So, we must implement one from scratch\n",
    "class DilatedCausalConvolution(torch.nn.Conv1d):\n",
    "    def __init__(self, in_channels, out_channels, kernel_size, dilation=1):\n",
    "        self.dilation = dilation\n",
    "        self.pad = dilation * (kernel_size - 1) \n",
    "        self.kernel_size = kernel_size\n",
    "        super(DilatedCausalConvolution, self).__init__(in_channels,out_channels,padding=self.pad,kernel_size=kernel_size,dilation=dilation)\n",
    "\n",
    "    def forward(self, input):\n",
    "        result = super(DilatedCausalConvolution, self).forward(input) \n",
    "        #Don't pad the result if the kernel size is 1 or theres no dilation\n",
    "        return result if self.kernel_size[0] == 1 or self.dilation[0] == 0 else result[:, :, : -self.pad]\n",
    "        #Otherwise we pad it on the left so that no neurons can influence neurons to the right of it on the layer above it.\n",
    "        #which creates a sort of casual relationship\n",
    "\n",
    "class Wavenet(torch.nn.Module):\n",
    "    def __init__(self, depth, num_stacks, kernel_size):\n",
    "        super(Wavenet, self).__init__()\n",
    "    \n",
    "        self.input_layer = DilatedCausalConvolution(1, 1, 1)\n",
    "\n",
    "        #Creates several stacks of dilated causal convolutional layers\n",
    "        #When the depth is greater, neurons on the top layer will be influenced by\n",
    "        #neurons on the bottom layer that are further to the left, allowing the model to\n",
    "        #take longer-term patterns into consideration\n",
    "        causal_convolutional_layers = []\n",
    "        for i in range(num_stacks):\n",
    "            for j in range(depth):\n",
    "                causal_convolutional_layers.append(DilatedCausalConvolution(1, 2, kernel_size, 2**j))\n",
    "                \n",
    "        self.causal_convolutional_layers = torch.nn.ModuleList(causal_convolutional_layers)\n",
    "\n",
    "        self.conv1d= torch.nn.Conv1d(depth * num_stacks, out_channels=1, kernel_size=1)\n",
    "\n",
    "    def forward(self, x):\n",
    "\n",
    "        output = torch.clone(x)\n",
    "\n",
    "        skip_connections = []\n",
    "        output = self.input_layer(x)\n",
    "        for i in range(len(self.causal_convolutional_layers)):\n",
    "            layer_result = self.causal_convolutional_layers[i](output)\n",
    "\n",
    "            #The weird activation functon from the Wavenet paper. \n",
    "            output = torch.tanh(torch.split(layer_result, 1, dim=1)[0]) * torch.sigmoid(torch.split(layer_result, 1, dim=1)[1])\n",
    "\n",
    "            skip_connections.append(output)\n",
    "\n",
    "            output = output + output[:, :, -output.size(2) :]\n",
    "            \n",
    "\n",
    "        output = torch.cat([s[:, :, -output.size(2) :] for s in skip_connections], dim=1)\n",
    "        output = self.conv1d(output)\n",
    "\n",
    "\n",
    "        return output\n",
    "    \n",
    "model = Wavenet(7, 5, 2)\n",
    "    "
   ]
  },
  {
   "cell_type": "markdown",
   "metadata": {},
   "source": [
    "# Part 2, prepare the datasets"
   ]
  },
  {
   "cell_type": "code",
   "execution_count": 3,
   "metadata": {},
   "outputs": [],
   "source": [
    "normal_paths = open(\"test_normal_paths.txt\", \"r\")\n",
    "anomaly_paths = open(\"test_anomaly_paths.txt\", \"r\")\n",
    "\n",
    "normal_train_X = []\n",
    "\n",
    "anomaly_test_X = []\n",
    "\n",
    "i=0\n",
    "for line in normal_paths.readlines():\n",
    "    waveform, sample_rate = torchaudio.load(\"./data/test_normal/\" + line[:-1], normalize=True)\n",
    "    transform = torchaudio.transforms.MuLawEncoding(quantization_channels=256)\n",
    "    mulawtrans = transform(waveform)\n",
    "    l = mulawtrans[0].tolist()\n",
    "    l = l[0::2]\n",
    "    normal_train_X.append([v/10 for v in l] )\n",
    "    i += 1\n",
    "    if i > 1000:\n",
    "        break\n",
    "    \n"
   ]
  },
  {
   "cell_type": "code",
   "execution_count": 4,
   "metadata": {},
   "outputs": [],
   "source": [
    "i=0\n",
    "for line in anomaly_paths.readlines():\n",
    "    waveform, sample_rate = torchaudio.load(\"./data/test_anomaly/\" + line[:-1], normalize=True)\n",
    "    transform = torchaudio.transforms.MuLawEncoding(quantization_channels=256)\n",
    "    mulawtrans = transform(waveform)\n",
    "    l = mulawtrans[0].tolist()\n",
    "    l = l[0::2]\n",
    "    anomaly_test_X.append([v/10 for v in l] )\n",
    "    i += 1\n",
    "    if i > 100:\n",
    "        break\n",
    "\n",
    "\n",
    "#So, we're gonna say that if the MSE between the prediction and the output is above a certain\n",
    "#threshold, then the sample is \"anomalous\". The wavenet paper predicts individual segments of audio\n",
    "#that are anomalous and marks them as such, but in this assignment we appear to just need to classify\n",
    "#the entire wav file as anomalous/non-anomalous.\n"
   ]
  },
  {
   "cell_type": "markdown",
   "metadata": {},
   "source": [
    "# Part 3, Train the model and optimize hyperparameters\n",
    "\n",
    "So, for this one, the number of stacks and the depth of each stack of dilated causal convolutions are hyperparamters. The kernel size of the convolutions is also a hyperparameter. I also have a threshold value as a hyperparameter. If the MSE of the prediction is above this threshold, the sample is counted as anomalous. I will optimize this hyperparameter with optuna after training the wavenet. I will optimize the number of stacks and depth and the threshold with optuna."
   ]
  },
  {
   "cell_type": "code",
   "execution_count": 200,
   "metadata": {},
   "outputs": [
    {
     "name": "stderr",
     "output_type": "stream",
     "text": [
      "[I 2023-12-03 17:51:40,379] A new study created in memory with name: no-name-3f0d0a23-ee57-40f8-9919-aabb0d152aa7\n",
      "[I 2023-12-03 17:51:42,732] Trial 0 finished with value: 115.80644226074219 and parameters: {'num_stacks': 8, 'depth': 1}. Best is trial 0 with value: 115.80644226074219.\n",
      "[I 2023-12-03 17:51:45,766] Trial 1 finished with value: 66.54765319824219 and parameters: {'num_stacks': 7, 'depth': 2}. Best is trial 1 with value: 66.54765319824219.\n",
      "[I 2023-12-03 17:51:49,148] Trial 2 finished with value: 26.32602882385254 and parameters: {'num_stacks': 3, 'depth': 5}. Best is trial 2 with value: 26.32602882385254.\n",
      "[I 2023-12-03 17:51:54,928] Trial 3 finished with value: 77.13351440429688 and parameters: {'num_stacks': 10, 'depth': 2}. Best is trial 2 with value: 26.32602882385254.\n",
      "[I 2023-12-03 17:52:03,438] Trial 4 finished with value: 30.975269317626953 and parameters: {'num_stacks': 10, 'depth': 3}. Best is trial 2 with value: 26.32602882385254.\n",
      "[I 2023-12-03 17:52:11,293] Trial 5 finished with value: 18.876258850097656 and parameters: {'num_stacks': 5, 'depth': 5}. Best is trial 5 with value: 18.876258850097656.\n",
      "[I 2023-12-03 17:52:14,578] Trial 6 finished with value: 38.820518493652344 and parameters: {'num_stacks': 9, 'depth': 1}. Best is trial 5 with value: 18.876258850097656.\n",
      "[I 2023-12-03 17:52:20,265] Trial 7 finished with value: 19.64955711364746 and parameters: {'num_stacks': 8, 'depth': 3}. Best is trial 5 with value: 18.876258850097656.\n",
      "[I 2023-12-03 17:52:31,780] Trial 8 finished with value: 24.020448684692383 and parameters: {'num_stacks': 6, 'depth': 5}. Best is trial 5 with value: 18.876258850097656.\n",
      "[I 2023-12-03 17:52:37,532] Trial 9 finished with value: 46.06993865966797 and parameters: {'num_stacks': 7, 'depth': 2}. Best is trial 5 with value: 18.876258850097656.\n"
     ]
    }
   ],
   "source": [
    "def optimize_wavenet(trial):\n",
    "    num_stacks = trial.suggest_int(\"num_stacks\", 1, 10)\n",
    "    depth = trial.suggest_int(\"depth\", 1, 5)\n",
    "    model = Wavenet(num_stacks, depth, 2)\n",
    "    adam = torch.optim.Adam(model.parameters(), lr=0.001)\n",
    "    loss_function = torch.nn.MSELoss()\n",
    "\n",
    "    for epoch in range(100):\n",
    "        wave = torch.Tensor(random.choice(normal_train_X))\n",
    "        wave = torch.reshape(wave, [1, 1, 88000])\n",
    "        output = model(wave)\n",
    "        loss = loss_function(output, wave)\n",
    "        loss.backward()\n",
    "\n",
    "        adam.step()\n",
    "        adam.zero_grad()\n",
    "    return loss.item()\n",
    "\n",
    "study = optuna.create_study(direction=\"minimize\")\n",
    "study.optimize(optimize_wavenet, n_trials=10)\n",
    "\n",
    "best_num_stacks = study.best_params[\"num_stacks\"]\n",
    "best_depth = study.best_params[\"depth\"]"
   ]
  },
  {
   "cell_type": "code",
   "execution_count": 208,
   "metadata": {},
   "outputs": [
    {
     "name": "stdout",
     "output_type": "stream",
     "text": [
      "0.10659917443990707\n"
     ]
    }
   ],
   "source": [
    "model = Wavenet(best_num_stacks, best_depth, 2)\n",
    "adam = torch.optim.Adam(model.parameters(), lr=0.0005)\n",
    "loss_function = torch.nn.MSELoss()\n",
    "\n",
    "for epoch in range(5000):\n",
    "    wave = torch.Tensor(random.choice(normal_train_X))\n",
    "    wave = torch.reshape(wave, [1, 1, 88000])\n",
    "    output = model(wave)\n",
    "    loss = loss_function(output, wave)\n",
    "    loss.backward()\n",
    "\n",
    "    adam.step()\n",
    "    adam.zero_grad()\n",
    "    \n",
    "\n",
    "print(loss.item())\n",
    "\n",
    "\n",
    "torch.save(model.state_dict(), \"./model.p\")"
   ]
  },
  {
   "cell_type": "markdown",
   "metadata": {},
   "source": [
    "# I have to go to bed, so i'm saving the model so i can get it back when i wake up. As you can see from the previous cell's output, the MSE of the model is 0.1066 after 5,000 epochs of training. which isn't bad."
   ]
  },
  {
   "cell_type": "code",
   "execution_count": 5,
   "metadata": {},
   "outputs": [
    {
     "data": {
      "text/plain": [
       "<All keys matched successfully>"
      ]
     },
     "execution_count": 5,
     "metadata": {},
     "output_type": "execute_result"
    }
   ],
   "source": [
    "model = Wavenet(5, 5, 2)\n",
    "model.load_state_dict(torch.load(\"./model.p\"))"
   ]
  },
  {
   "cell_type": "code",
   "execution_count": 13,
   "metadata": {},
   "outputs": [
    {
     "data": {
      "image/png": "[encoded data removed]",
      "text/plain": [
       "<Figure size 640x480 with 1 Axes>"
      ]
     },
     "metadata": {},
     "output_type": "display_data"
    },
    {
     "data": {
      "image/png": "[encoded data removed]",
      "text/plain": [
       "<Figure size 640x480 with 1 Axes>"
      ]
     },
     "metadata": {},
     "output_type": "display_data"
    }
   ],
   "source": [
    "sample_x = random.choice(normal_train_X)\n",
    "wave = torch.Tensor(sample_x)\n",
    "wave = torch.reshape(wave, [1, 1, 88000])\n",
    "output = torch.flatten(model(wave)).tolist()\n",
    "\n",
    "from matplotlib import pyplot as plt\n",
    "\n",
    "plt.plot([i for i in range(len(sample_x))], sample_x)\n",
    "plt.show()\n",
    "plt.plot([i for i in range(len(sample_x))], output)\n",
    "plt.show()"
   ]
  },
  {
   "cell_type": "code",
   "execution_count": 12,
   "metadata": {},
   "outputs": [
    {
     "name": "stderr",
     "output_type": "stream",
     "text": [
      "[I 2023-12-03 18:23:39,240] A new study created in memory with name: no-name-0e9ea935-3af2-4a99-a7fa-a085712ae277\n",
      "[I 2023-12-03 18:23:40,332] Trial 0 finished with value: 0.5714285714285715 and parameters: {'threshold': 6.657975223151894}. Best is trial 0 with value: 0.5714285714285715.\n",
      "[I 2023-12-03 18:23:41,456] Trial 1 finished with value: 0.5714285714285715 and parameters: {'threshold': 8.80216859797542}. Best is trial 0 with value: 0.5714285714285715.\n",
      "[I 2023-12-03 18:23:42,594] Trial 2 finished with value: 0.6842105263157895 and parameters: {'threshold': 2.5345004466274093}. Best is trial 2 with value: 0.6842105263157895.\n",
      "[I 2023-12-03 18:23:43,726] Trial 3 finished with value: 0.7012987012987013 and parameters: {'threshold': 3.960390105713337}. Best is trial 3 with value: 0.7012987012987013.\n",
      "[I 2023-12-03 18:23:44,843] Trial 4 finished with value: 0.717948717948718 and parameters: {'threshold': 4.178342025195975}. Best is trial 4 with value: 0.717948717948718.\n",
      "[I 2023-12-03 18:23:46,001] Trial 5 finished with value: 0.7951807228915663 and parameters: {'threshold': 3.649260950619573}. Best is trial 5 with value: 0.7951807228915663.\n",
      "[I 2023-12-03 18:23:47,141] Trial 6 finished with value: 0.6486486486486487 and parameters: {'threshold': 8.988085715684267}. Best is trial 5 with value: 0.7951807228915663.\n",
      "[I 2023-12-03 18:23:48,343] Trial 7 finished with value: 0.6842105263157895 and parameters: {'threshold': 6.160781187798062}. Best is trial 5 with value: 0.7951807228915663.\n",
      "[I 2023-12-03 18:23:49,494] Trial 8 finished with value: 0.6301369863013699 and parameters: {'threshold': 5.390508953811669}. Best is trial 5 with value: 0.7951807228915663.\n",
      "[I 2023-12-03 18:23:50,623] Trial 9 finished with value: 0.6301369863013699 and parameters: {'threshold': 7.944656384507795}. Best is trial 5 with value: 0.7951807228915663.\n",
      "[I 2023-12-03 18:23:51,676] Trial 10 finished with value: 0.7499999999999999 and parameters: {'threshold': 0.8817525821801064}. Best is trial 5 with value: 0.7951807228915663.\n",
      "[I 2023-12-03 18:23:52,804] Trial 11 finished with value: 0.6111111111111112 and parameters: {'threshold': 0.19522725689518994}. Best is trial 5 with value: 0.7951807228915663.\n",
      "[I 2023-12-03 18:23:53,723] Trial 12 finished with value: 0.6666666666666666 and parameters: {'threshold': 1.538163077992596}. Best is trial 5 with value: 0.7951807228915663.\n",
      "[I 2023-12-03 18:23:54,756] Trial 13 finished with value: 0.6666666666666666 and parameters: {'threshold': 2.4068097311508034}. Best is trial 5 with value: 0.7951807228915663.\n",
      "[I 2023-12-03 18:23:55,697] Trial 14 finished with value: 0.6111111111111112 and parameters: {'threshold': 0.7481987489871944}. Best is trial 5 with value: 0.7951807228915663.\n",
      "[I 2023-12-03 18:23:56,728] Trial 15 finished with value: 0.5915492957746479 and parameters: {'threshold': 3.2127148739534186}. Best is trial 5 with value: 0.7951807228915663.\n",
      "[I 2023-12-03 18:23:57,837] Trial 16 finished with value: 0.6486486486486487 and parameters: {'threshold': 1.7667724135283112}. Best is trial 5 with value: 0.7951807228915663.\n",
      "[I 2023-12-03 18:23:59,008] Trial 17 finished with value: 0.5915492957746479 and parameters: {'threshold': 0.7250902908269012}. Best is trial 5 with value: 0.7951807228915663.\n",
      "[I 2023-12-03 18:24:00,309] Trial 18 finished with value: 0.6301369863013699 and parameters: {'threshold': 3.6529601492945423}. Best is trial 5 with value: 0.7951807228915663.\n",
      "[I 2023-12-03 18:24:01,502] Trial 19 finished with value: 0.6842105263157895 and parameters: {'threshold': 4.986130605428554}. Best is trial 5 with value: 0.7951807228915663.\n",
      "[I 2023-12-03 18:24:02,562] Trial 20 finished with value: 0.5714285714285715 and parameters: {'threshold': 1.4402454646336}. Best is trial 5 with value: 0.7951807228915663.\n",
      "[I 2023-12-03 18:24:03,719] Trial 21 finished with value: 0.6301369863013699 and parameters: {'threshold': 3.9422452941258377}. Best is trial 5 with value: 0.7951807228915663.\n",
      "[I 2023-12-03 18:24:04,814] Trial 22 finished with value: 0.6666666666666666 and parameters: {'threshold': 4.595550147901451}. Best is trial 5 with value: 0.7951807228915663.\n",
      "[I 2023-12-03 18:24:06,002] Trial 23 finished with value: 0.6301369863013699 and parameters: {'threshold': 2.613848915594123}. Best is trial 5 with value: 0.7951807228915663.\n",
      "[I 2023-12-03 18:24:07,239] Trial 24 finished with value: 0.6666666666666666 and parameters: {'threshold': 3.1406295670386513}. Best is trial 5 with value: 0.7951807228915663.\n",
      "[I 2023-12-03 18:24:08,401] Trial 25 finished with value: 0.717948717948718 and parameters: {'threshold': 4.211947542006477}. Best is trial 5 with value: 0.7951807228915663.\n",
      "[I 2023-12-03 18:24:09,671] Trial 26 finished with value: 0.6842105263157895 and parameters: {'threshold': 4.777488225538334}. Best is trial 5 with value: 0.7951807228915663.\n",
      "[I 2023-12-03 18:24:10,874] Trial 27 finished with value: 0.5714285714285715 and parameters: {'threshold': 3.2898449042758022}. Best is trial 5 with value: 0.7951807228915663.\n",
      "[I 2023-12-03 18:24:12,065] Trial 28 finished with value: 0.6666666666666666 and parameters: {'threshold': 5.6987507280502925}. Best is trial 5 with value: 0.7951807228915663.\n",
      "[I 2023-12-03 18:24:13,254] Trial 29 finished with value: 0.6666666666666666 and parameters: {'threshold': 6.674279438821522}. Best is trial 5 with value: 0.7951807228915663.\n",
      "[I 2023-12-03 18:24:14,443] Trial 30 finished with value: 0.6842105263157895 and parameters: {'threshold': 0.009900720729367762}. Best is trial 5 with value: 0.7951807228915663.\n",
      "[I 2023-12-03 18:24:15,577] Trial 31 finished with value: 0.7341772151898733 and parameters: {'threshold': 4.4909534547883885}. Best is trial 5 with value: 0.7951807228915663.\n",
      "[I 2023-12-03 18:24:16,643] Trial 32 finished with value: 0.6842105263157895 and parameters: {'threshold': 4.6771300487878635}. Best is trial 5 with value: 0.7951807228915663.\n",
      "[I 2023-12-03 18:24:17,726] Trial 33 finished with value: 0.6486486486486487 and parameters: {'threshold': 2.2393764825347473}. Best is trial 5 with value: 0.7951807228915663.\n",
      "[I 2023-12-03 18:24:18,933] Trial 34 finished with value: 0.7012987012987013 and parameters: {'threshold': 4.265258733502723}. Best is trial 5 with value: 0.7951807228915663.\n",
      "[I 2023-12-03 18:24:20,005] Trial 35 finished with value: 0.6842105263157895 and parameters: {'threshold': 3.6138954419999023}. Best is trial 5 with value: 0.7951807228915663.\n",
      "[I 2023-12-03 18:24:21,180] Trial 36 finished with value: 0.6842105263157895 and parameters: {'threshold': 2.9790430741201055}. Best is trial 5 with value: 0.7951807228915663.\n",
      "[I 2023-12-03 18:24:22,300] Trial 37 finished with value: 0.6301369863013699 and parameters: {'threshold': 3.742619056255564}. Best is trial 5 with value: 0.7951807228915663.\n",
      "[I 2023-12-03 18:24:23,413] Trial 38 finished with value: 0.6301369863013699 and parameters: {'threshold': 5.614513540677816}. Best is trial 5 with value: 0.7951807228915663.\n",
      "[I 2023-12-03 18:24:24,514] Trial 39 finished with value: 0.6486486486486487 and parameters: {'threshold': 4.31554201979927}. Best is trial 5 with value: 0.7951807228915663.\n",
      "[I 2023-12-03 18:24:25,685] Trial 40 finished with value: 0.7499999999999999 and parameters: {'threshold': 1.99199517488999}. Best is trial 5 with value: 0.7951807228915663.\n",
      "[I 2023-12-03 18:24:26,825] Trial 41 finished with value: 0.7341772151898733 and parameters: {'threshold': 2.028707318190812}. Best is trial 5 with value: 0.7951807228915663.\n",
      "[I 2023-12-03 18:24:27,911] Trial 42 finished with value: 0.6301369863013699 and parameters: {'threshold': 1.926466209314551}. Best is trial 5 with value: 0.7951807228915663.\n",
      "[I 2023-12-03 18:24:28,972] Trial 43 finished with value: 0.5074626865671642 and parameters: {'threshold': 2.7592007405182906}. Best is trial 5 with value: 0.7951807228915663.\n",
      "[I 2023-12-03 18:24:30,157] Trial 44 finished with value: 0.6666666666666666 and parameters: {'threshold': 1.1172014068550582}. Best is trial 5 with value: 0.7951807228915663.\n",
      "[I 2023-12-03 18:24:31,257] Trial 45 finished with value: 0.717948717948718 and parameters: {'threshold': 2.0962636594325543}. Best is trial 5 with value: 0.7951807228915663.\n",
      "[I 2023-12-03 18:24:32,407] Trial 46 finished with value: 0.6301369863013699 and parameters: {'threshold': 2.4423619639484446}. Best is trial 5 with value: 0.7951807228915663.\n",
      "[I 2023-12-03 18:24:33,527] Trial 47 finished with value: 0.5714285714285715 and parameters: {'threshold': 1.6004552885304077}. Best is trial 5 with value: 0.7951807228915663.\n",
      "[I 2023-12-03 18:24:34,698] Trial 48 finished with value: 0.717948717948718 and parameters: {'threshold': 0.9918675639079969}. Best is trial 5 with value: 0.7951807228915663.\n",
      "[I 2023-12-03 18:24:35,867] Trial 49 finished with value: 0.7012987012987013 and parameters: {'threshold': 2.1014027744761}. Best is trial 5 with value: 0.7951807228915663.\n"
     ]
    }
   ],
   "source": [
    "#So, we're gonna say that if the error between the prediction and the output is above a certain\n",
    "#threshold, then the sample is \"anomalous\". The wavenet paper predicts individual segments of audio\n",
    "#that are anomalous and marks them as such, but in this assignment we appear to just need to classify\n",
    "#the entire wav file as anomalous/non-anomalous.\n",
    "\n",
    "from sklearn.metrics import f1_score\n",
    "\n",
    "def error(x, y):\n",
    "    sum = 0\n",
    "    for i in range(len(x)):\n",
    "        sum += (x[i] - y[i])**2\n",
    "    return sum\n",
    "def objective(trial):\n",
    "    threshold = trial.suggest_float(\"threshold\", 0, 10)\n",
    "    actuals = []\n",
    "    predicteds = []\n",
    "    for i in range(50):\n",
    "        if(random.random() > 0.5):\n",
    "            actuals.append(False)\n",
    "            sample_x = random.choice(normal_train_X)\n",
    "        else:\n",
    "            actuals.append(True)\n",
    "            sample_x = random.choice(anomaly_test_X)\n",
    "\n",
    "        wave = torch.Tensor(sample_x)\n",
    "        wave = torch.reshape(wave, [1, 1, 88000])\n",
    "        output = torch.flatten(model(wave)).tolist()\n",
    "        err = error(output, sample_x)\n",
    "        if err > threshold:\n",
    "            predicteds.append(True)\n",
    "        else:\n",
    "            predicteds.append(False)\n",
    "    \n",
    "    return f1_score(actuals, predicteds)\n",
    "\n",
    "study = optuna.create_study(direction=\"maximize\")\n",
    "study.optimize(objective, n_trials=50)\n",
    "\n"
   ]
  },
  {
   "cell_type": "markdown",
   "metadata": {},
   "source": [
    "# So, as we can see, the best trial was with the threshold set to 2.10, giving as an f1 score of 0.795, which isn't bad."
   ]
  }
 ],
 "metadata": {
  "kernelspec": {
   "display_name": "Python 3",
   "language": "python",
   "name": "python3"
  },
  "language_info": {
   "codemirror_mode": {
    "name": "ipython",
    "version": 3
   },
   "file_extension": ".py",
   "mimetype": "text/x-python",
   "name": "python",
   "nbconvert_exporter": "python",
   "pygments_lexer": "ipython3",
   "version": "3.10.12"
  }
 },
 "nbformat": 4,
 "nbformat_minor": 2
}
