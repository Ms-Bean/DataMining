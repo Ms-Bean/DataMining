{
 "cells": [
  {
   "cell_type": "code",
   "execution_count": 1,
   "metadata": {},
   "outputs": [
    {
     "data": {
      "text/plain": [
       "[('socialism', 0.9675610661506653),\n",
       " ('tyranny', 0.9390194416046143),\n",
       " ('inequality', 0.9126962423324585),\n",
       " ('oppression', 0.9065089225769043),\n",
       " ('greed', 0.9040176868438721),\n",
       " ('fascism', 0.8969089388847351),\n",
       " ('capitalist', 0.8934274911880493),\n",
       " ('democracy', 0.8926239013671875),\n",
       " ('morality', 0.8892533183097839),\n",
       " ('poverty', 0.877461314201355)]"
      ]
     },
     "execution_count": 1,
     "metadata": {},
     "output_type": "execute_result"
    }
   ],
   "source": [
    "import gensim.downloader\n",
    "\n",
    "glove_vectors = gensim.downloader.load('glove-twitter-25')\n",
    "glove_vectors.most_similar('capitalism')"
   ]
  },
  {
   "cell_type": "code",
   "execution_count": 2,
   "metadata": {},
   "outputs": [
    {
     "name": "stdout",
     "output_type": "stream",
     "text": [
      "0.9795010714430114\n"
     ]
    }
   ],
   "source": [
    "from xml.dom import minidom\n",
    "import psycopg2\n",
    "conn = psycopg2.connect(\n",
    "    host=\"localhost\",\n",
    "    database=\"datamining\",\n",
    "    user=\"msbean\",\n",
    "    password=\"cactusgreen\")\n",
    "\n",
    "conn.autocommit = True\n",
    "cursor = conn.cursor() \n",
    "\n",
    "nones = 0\n",
    "somes = 0\n",
    "for v in range(50):\n",
    "    dom = minidom.parse(\"../videos/\" + str(v) + \"_captions.txt\")\n",
    "    for caption in dom.getElementsByTagName(\"s\"):\n",
    "        for child_node in caption.childNodes:\n",
    "            if child_node.nodeType == child_node.TEXT_NODE:\n",
    "                stripped = ''.join([i for i in child_node.data if i.isalpha()]).lower()\n",
    "                if stripped in glove_vectors:\n",
    "                    embedding = glove_vectors[stripped]\n",
    "                    \n",
    "                    sql = \"INSERT INTO caption_embeddings (video_path, word, embedding) VALUES ('\"\n",
    "                    sql += \"../videos/\" + str(v) + \".mp4', '\"\n",
    "                    sql += stripped\n",
    "                    sql += \"', \"\n",
    "                    sql += \"'[\"\n",
    "                    for datum in embedding:\n",
    "                        sql += str(datum) + \",\"\n",
    "                    sql = sql[:-1]\n",
    "                    sql += \"]')\"\n",
    "\n",
    "                    cursor.execute(sql) \n",
    "                    somes += 1\n",
    "                else:\n",
    "                    nones += 1\n",
    "print(somes / (somes + nones))\n",
    "\n",
    "conn.commit() \n",
    "conn.close() "
   ]
  },
  {
   "cell_type": "code",
   "execution_count": 13,
   "metadata": {},
   "outputs": [
    {
     "name": "stdout",
     "output_type": "stream",
     "text": [
      "Words similar to 'tree' fetched from database (and videos they appeared in)\n",
      "[('tree', '../videos/37.mp4'), ('flowers', '../videos/41.mp4'), ('dark', '../videos/7.mp4'), ('palm', '../videos/17.mp4'), ('sun', '../videos/35.mp4'), ('stone', '../videos/19.mp4'), ('mountain', '../videos/15.mp4'), ('inside', '../videos/16.mp4'), ('light', '../videos/14.mp4'), ('wood', '../videos/10.mp4')]\n"
     ]
    }
   ],
   "source": [
    "#SELECT id, embedding FROM embeddings ORDER BY embedding <-> '[2\n",
    "\n",
    "conn = psycopg2.connect(\n",
    "    host=\"localhost\",\n",
    "    database=\"datamining\",\n",
    "    user=\"msbean\",\n",
    "    password=\"cactusgreen\")\n",
    "\n",
    "conn.autocommit = True\n",
    "cursor = conn.cursor() \n",
    "\n",
    "tree_embedding = glove_vectors[\"tree\"]\n",
    "sql = \"SELECT word, video_path FROM caption_embeddings ORDER BY embedding <-> \"\n",
    "sql += \"'[\"\n",
    "for datum in tree_embedding:\n",
    "    sql += str(datum) + \",\"\n",
    "sql = sql[:-1]\n",
    "sql += \"]' LIMIT 10\"\n",
    "cursor.execute(sql) \n",
    "records = cursor.fetchall()\n",
    "\n",
    "print(\"Words similar to 'tree' fetched from database (and videos they appeared in)\")\n",
    "print(records)"
   ]
  }
 ],
 "metadata": {
  "kernelspec": {
   "display_name": "Python 3",
   "language": "python",
   "name": "python3"
  },
  "language_info": {
   "codemirror_mode": {
    "name": "ipython",
    "version": 3
   },
   "file_extension": ".py",
   "mimetype": "text/x-python",
   "name": "python",
   "nbconvert_exporter": "python",
   "pygments_lexer": "ipython3",
   "version": "3.10.12"
  }
 },
 "nbformat": 4,
 "nbformat_minor": 2
}
