{
 "cells": [
  {
   "cell_type": "code",
   "execution_count": 44,
   "metadata": {},
   "outputs": [
    {
     "data": {
      "text/plain": [
       "[('socialism', 0.9675610661506653),\n",
       " ('tyranny', 0.9390194416046143),\n",
       " ('inequality', 0.9126962423324585),\n",
       " ('oppression', 0.9065089225769043),\n",
       " ('greed', 0.9040176868438721),\n",
       " ('fascism', 0.8969089388847351),\n",
       " ('capitalist', 0.8934274911880493),\n",
       " ('democracy', 0.8926239013671875),\n",
       " ('morality', 0.8892533183097839),\n",
       " ('poverty', 0.877461314201355)]"
      ]
     },
     "execution_count": 44,
     "metadata": {},
     "output_type": "execute_result"
    }
   ],
   "source": [
    "import gensim.downloader\n",
    "\n",
    "glove_vectors = gensim.downloader.load('glove-twitter-25')\n",
    "glove_vectors.most_similar('capitalism')"
   ]
  },
  {
   "cell_type": "code",
   "execution_count": 42,
   "metadata": {},
   "outputs": [
    {
     "name": "stdout",
     "output_type": "stream",
     "text": [
      "0.9787234042553191\n",
      "0.9650735294117647\n",
      "0.9765625\n",
      "0.9694656488549618\n",
      "0.9800399201596807\n",
      "0.9743589743589743\n",
      "0.9776876267748479\n",
      "0.9757009345794393\n",
      "0.98014440433213\n",
      "0.9855855855855856\n",
      "0.9769673704414588\n",
      "0.9631675874769797\n",
      "0.9658634538152611\n",
      "0.9771428571428571\n",
      "0.9823874755381604\n",
      "0.974304068522484\n",
      "0.9758551307847082\n",
      "0.9873949579831933\n",
      "0.9701789264413518\n",
      "0.9733333333333334\n",
      "0.9709618874773139\n",
      "0.985239852398524\n",
      "0.9884393063583815\n",
      "0.972457627118644\n",
      "0.9874776386404294\n",
      "0.9956896551724138\n",
      "0.9948717948717949\n",
      "0.9946666666666667\n",
      "1.0\n",
      "0.9970760233918129\n",
      "0.9976635514018691\n",
      "0.9732510288065843\n",
      "0.9975247524752475\n",
      "1.0\n",
      "0.9688715953307393\n",
      "0.9792843691148776\n",
      "0.9757462686567164\n",
      "0.9723865877712031\n",
      "0.9805068226120858\n",
      "0.9827856025039123\n",
      "0.9671179883945842\n",
      "0.9746588693957114\n",
      "0.9796557120500783\n",
      "0.979253112033195\n",
      "0.9689922480620154\n",
      "0.9973404255319149\n",
      "0.9736842105263158\n",
      "0.9731543624161074\n",
      "0.9865384615384616\n",
      "0.9916142557651991\n"
     ]
    }
   ],
   "source": [
    "from xml.dom import minidom\n",
    "import psycopg2\n",
    "conn = psycopg2.connect(\n",
    "    host=\"localhost\",\n",
    "    database=\"datamining\",\n",
    "    user=\"msbean\",\n",
    "    password=\"cactusgreen\")\n",
    "\n",
    "conn.autocommit = True\n",
    "cursor = conn.cursor() \n",
    "\n",
    "for v in range(50):\n",
    "    dom = minidom.parse(\"../videos/\" + str(v) + \"_captions.txt\")\n",
    "    nones = 0\n",
    "    somes = 0\n",
    "    for caption in dom.getElementsByTagName(\"s\"):\n",
    "        for child_node in caption.childNodes:\n",
    "            if child_node.nodeType == child_node.TEXT_NODE:\n",
    "                stripped = ''.join([i for i in child_node.data if i.isalpha()]).lower()\n",
    "                if stripped in glove_vectors:\n",
    "                    embedding = glove_vectors[stripped]\n",
    "                    \n",
    "                    sql = \"INSERT INTO caption_embeddings (video_path, word, embedding) VALUES ('\"\n",
    "                    sql += \"../videos/\" + str(v) + \".mp4', '\"\n",
    "                    sql += stripped\n",
    "                    sql += \"', \"\n",
    "                    sql += \"'[\"\n",
    "                    for datum in embedding:\n",
    "                        sql += str(datum) + \",\"\n",
    "                    sql = sql[:-1]\n",
    "                    sql += \"]')\"\n",
    "\n",
    "                    cursor.execute(sql) \n",
    "                    somes += 1\n",
    "                else:\n",
    "                    nones += 1\n",
    "    print(somes / (somes + nones))\n",
    "\n",
    "conn.commit() \n",
    "conn.close() "
   ]
  },
  {
   "cell_type": "code",
   "execution_count": null,
   "metadata": {},
   "outputs": [],
   "source": []
  }
 ],
 "metadata": {
  "kernelspec": {
   "display_name": "Python 3",
   "language": "python",
   "name": "python3"
  },
  "language_info": {
   "codemirror_mode": {
    "name": "ipython",
    "version": 3
   },
   "file_extension": ".py",
   "mimetype": "text/x-python",
   "name": "python",
   "nbconvert_exporter": "python",
   "pygments_lexer": "ipython3",
   "version": "3.10.12"
  }
 },
 "nbformat": 4,
 "nbformat_minor": 2
}
