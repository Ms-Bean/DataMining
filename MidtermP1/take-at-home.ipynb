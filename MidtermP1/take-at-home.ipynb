{
 "cells": [
  {
   "cell_type": "markdown",
   "metadata": {},
   "source": [
    "# Problem Set 1 (40 points) -   Take-Home\n",
    "\n",
    "You have been tasked to implement a predictor that will _rank_ documents according to their relevancy to a given query. \n",
    "\n",
    "You will use the [LETOR 4.0 dataset MQ2007]( https://arxiv.org/pdf/1306.2597.pdf) that has already been downloaded and is available in the `data` folder.\n",
    "\n",
    "Each row is a query-document pair. The first column is the relevance label of this pair, the second column is query id, the following columns are features, and the end of the row is comment about the pair, including id of the document. The larger the relevance label, the more relevant the query-document pair. A query-document pair is represented by a 46-dimensional feature vector. "
   ]
  },
  {
   "cell_type": "markdown",
   "metadata": {},
   "source": [
    "## PS1.A (5 points) - Data Exploration\n",
    "\n",
    "Create a pandas frame of the dataset and _print_ the first 5 rows in format where the first row will show the column names of the dataset. Instead of the feature names you can conveniently use the column index as a name.  \n",
    "\n",
    "Is the 2nd column which is the query id a feature or not ?  Answer the question by coding the production of the $\\mathbf x$ feature container and the $label y$ label container.  "
   ]
  },
  {
   "cell_type": "code",
   "execution_count": 6,
   "metadata": {},
   "outputs": [],
   "source": [
    "# Insert the code here\n",
    "import pandas\n",
    "\n",
    "#Convert whatever the heck this is right to CSV\n",
    "file_in = open(\"Querylevelnorm.txt\", \"r\") \n",
    "file_out = open(\"Querylevelnorm.csv\", \"w\")\n",
    "column_names=[\"relevance\", \"qid\"]\n",
    "column_names.extend(str(i + 1) for i in range(46))\n",
    "file_out.write(\",\".join(column_names))\n",
    "file_out.write(\"\\n\")\n",
    "for line in file_in:\n",
    "    components = line.split(\" \")\n",
    "    components = components[:48]\n",
    "    for i in range(47):\n",
    "        components[i+1] = components[i+1].split(\":\")[1]\n",
    "    file_out.write(\",\".join(components))\n",
    "    file_out.write(\"\\n\")\n",
    "\n"
   ]
  },
  {
   "cell_type": "code",
   "execution_count": 7,
   "metadata": {},
   "outputs": [
    {
     "name": "stdout",
     "output_type": "stream",
     "text": [
      "   relevance  qid         1         2     3         4         5    6    7  \\\n",
      "0          0   10  0.000000  0.000000  0.00  0.000000  0.000000  0.0  0.0   \n",
      "1          1   10  0.031310  0.666667  0.50  0.166667  0.033206  0.0  0.0   \n",
      "2          1   10  0.078682  0.166667  0.50  0.333333  0.080022  0.0  0.0   \n",
      "3          1   10  0.019058  1.000000  1.00  0.500000  0.022591  0.0  0.0   \n",
      "4          0   10  0.039477  0.000000  0.75  0.166667  0.040555  0.0  0.0   \n",
      "\n",
      "     8  ...        37        38        39        40        41        42  \\\n",
      "0  0.0  ...  0.000000  0.000000  0.000000  0.000000  0.000000  0.000000   \n",
      "1  0.0  ...  0.646890  0.686107  0.823908  0.750092  0.385426  0.923077   \n",
      "2  0.0  ...  0.649824  0.578581  0.868557  0.641385  0.010462  0.076923   \n",
      "3  0.0  ...  0.918403  0.868457  1.000000  0.863460  0.016642  0.153846   \n",
      "4  0.0  ...  0.565875  0.569440  0.769845  0.646567  0.073711  0.076923   \n",
      "\n",
      "         43        44        45   46  \n",
      "0  0.017241  0.000000  0.000000  0.0  \n",
      "1  0.086207  0.333333  0.448276  0.0  \n",
      "2  0.074713  0.833333  0.678161  0.0  \n",
      "3  0.040230  0.833333  0.896552  0.0  \n",
      "4  0.034483  0.333333  0.218391  0.0  \n",
      "\n",
      "[5 rows x 48 columns]\n"
     ]
    }
   ],
   "source": [
    "from sklearn.model_selection import train_test_split \n",
    "\n",
    "#And now read it into the dataframes for train and test data\n",
    "dataframe = pandas.read_csv(\"Querylevelnorm.csv\")\n",
    "print(dataframe.head(5))\n",
    "train, test = train_test_split(dataframe, test_size=0.2)\n",
    "X_test = test.drop([\"relevance\", \"qid\"], axis=1).iloc[:500]\n",
    "y_test = test[\"relevance\"].iloc[:500]\n",
    "X_train = train.drop([\"relevance\", \"qid\"], axis=1).iloc[:5000]\n",
    "y_train = train[\"relevance\"].iloc[:5000]\n"
   ]
  },
  {
   "cell_type": "markdown",
   "metadata": {},
   "source": [
    "Looking at the unique values in the qid column, I have concluded that a query ID is not a feature as it is just an integer identifier for the query and does not pertain to any real information about it, per se. In addition, it is definitely not a continuous variable that we can perform regression on. As such, it was dropped from the test and train data."
   ]
  },
  {
   "cell_type": "code",
   "execution_count": 8,
   "metadata": {},
   "outputs": [
    {
     "name": "stdout",
     "output_type": "stream",
     "text": [
      "[ 135 8064 1234 ... 5576 2466 4398]\n"
     ]
    }
   ],
   "source": [
    "print(test[\"qid\"].unique())"
   ]
  },
  {
   "cell_type": "markdown",
   "metadata": {},
   "source": [
    "## PS1.B (20 points)\n",
    "\n",
    "Consult your textbook notebook `#4`` (the one that corresponds to Chapter 4) and express the problem of ranking as a regression problem. State the problem and implement the solution using the polynomial basis functions just like in [this notebook](https://pantelis.github.io/data-mining/aiml-common/lectures/regression/linear-regression/linear_regression.html). Solve the linear regression problem using SGD. Report the train and test MSE as a function of the epochs. \n"
   ]
  },
  {
   "cell_type": "markdown",
   "metadata": {},
   "source": [
    "This ranking problem can be turned into a regression problem by treating the ranking as a continuous variable. We can use linear regression by applying a polynomial basis function and then performing linear regression on the transformed dataset. In addition, we will also be normalizing the data such that the means of each input variable and the mean of the output variable are 0, and undoing the normalization when we make predictions. This way we do not have to worry about the intercepts at all during training. Our weights will therefore be represented as a vector, one for each independent variable. Our prediction using $m$ data points will therefore be\n",
    "\n",
    "$\\hat{y_i} = w_1x_{i1} + w_2x_{i2} + ... + w_mx_{im}$\n",
    "\n",
    "And our error when predicting $n$ data points will be\n",
    "\n",
    "$Err = \\frac{1}{n}\\sum_{i=1}^{n}(\\hat{y_i}-y_i)^2$\n",
    "\n",
    "Now we derive this with respect to a given weight, say, $w_j$.\n",
    "\n",
    "$\\frac{dErr}{dw_j} = \\frac{d}{dw_j} \\frac{1}{n}\\sum_{i=1}^{n}(\\hat{y_i}-y_i)^2$\n",
    "\n",
    "$=\\frac{1}{n}\\sum_{i=1}^{n} \\frac{d}{dw_j} (\\hat{y_i}-y_i)^2$\n",
    "\n",
    "$\\frac{d}{dw_j} (\\hat{y_i}-y_i)^2 = 2(\\hat{y_i}-y_i)(\\frac{d}{dw_j}(\\hat{y_i}-y_i))$\n",
    "\n",
    "$\\frac{d}{dw_j}(\\hat{y_i}-y_i) = \\frac{d}{dw_j}\\hat{y_i} = \\frac{d}{dw_j}w_jx_{ij} = x_{ij}$\n",
    "\n",
    "$\\frac{dErr}{dw_j} = \\frac{2}{n}\\sum_{i=1}^{n}(\\hat{y_i}-y_i)x_{ij}$\n",
    "\n",
    "In the case of stoachastic gradient descent, we have $n=1$\n",
    "\n",
    "$\\frac{dErr}{dw_j} = 2(\\hat{y}-y)x_j$\n",
    "\n",
    "We now have the mathematical TRUTH we need to implement SGD from scratch. Even in C if we so chose. In order to verify that we have not made a fatal error in mathematical reasoning or in implementation, we will first test the algorithm on a toy dataset, and then the actual data."
   ]
  },
  {
   "cell_type": "code",
   "execution_count": 9,
   "metadata": {},
   "outputs": [
    {
     "name": "stdout",
     "output_type": "stream",
     "text": [
      "initializing\n",
      "Training\n"
     ]
    },
    {
     "data": {
      "image/png": "[encoded data removed]",
      "text/plain": [
       "<Figure size 640x480 with 1 Axes>"
      ]
     },
     "metadata": {},
     "output_type": "display_data"
    },
    {
     "name": "stdout",
     "output_type": "stream",
     "text": [
      "initializing\n",
      "Training\n"
     ]
    },
    {
     "data": {
      "image/png": "[encoded data removed]",
      "text/plain": [
       "<Figure size 640x480 with 1 Axes>"
      ]
     },
     "metadata": {},
     "output_type": "display_data"
    },
    {
     "data": {
      "image/png": "[encoded data removed]",
      "text/plain": [
       "<Figure size 640x480 with 1 Axes>"
      ]
     },
     "metadata": {},
     "output_type": "display_data"
    }
   ],
   "source": [
    "# Insert code here\n",
    "from sklearn.preprocessing import PolynomialFeatures\n",
    "from sklearn.metrics import mean_squared_error\n",
    "import numpy\n",
    "import random\n",
    "from matplotlib import pyplot as plt\n",
    "\n",
    "class Model:\n",
    "    def __init__(self, X: list[list[float]], y: list[float], store_errors: bool = False, error_skip_length: int = 1, X_test: list[list[float]] = None, y_test: list[float] = None):\n",
    "        assert len(X) > 0\n",
    "        print(\"initializing\")\n",
    "        self.store_errors = store_errors\n",
    "        self.error_skip_length = error_skip_length\n",
    "        self.errors_train = [] # Will store the MSE as a function of epochs \n",
    "        self.errors_test = []\n",
    "        self.coefficients = [0 for i in range(len(X[0]))]\n",
    "        self.y_intercept = numpy.mean(y)\n",
    "        x_t = numpy.transpose(X)\n",
    "        self.x_intercepts = []\n",
    "        for column in range(len(x_t)):\n",
    "            self.x_intercepts.append(numpy.mean(x_t[column]))\n",
    "        \n",
    "        #Normalize the data\n",
    "        self.X = X.copy()\n",
    "        for row in range(len(self.X)):\n",
    "            self.normalize(self.X[row])\n",
    "        self.y = y.copy()\n",
    "        for i in range(len(self.y)):\n",
    "            self.y[i] -= self.y_intercept\n",
    "\n",
    "        self.X_test = X_test\n",
    "        self.y_test = y_test\n",
    "    #Normalize inputs\n",
    "    def normalize(self, x: list[float]):\n",
    "        assert len(x) == len(self.coefficients)\n",
    "        for i in range(len(x)):\n",
    "                x[i] -= self.x_intercepts[i]\n",
    "\n",
    "    #Predict the normalized y value given normalized x values\n",
    "    def predict_normalized(self, x: list[float]) -> float:\n",
    "        assert len(x) == len(self.coefficients)\n",
    "        return numpy.dot(self.coefficients, x)\n",
    "\n",
    "\n",
    "    #Predict the y value given x values\n",
    "    def predict(self, x: list[float]) -> float:\n",
    "        assert len(x) == len(self.coefficients)\n",
    "        x_normalized = x.copy()\n",
    "        self.normalize(x_normalized) #Normalize the input\n",
    "        return self.predict_normalized(x_normalized) + self.y_intercept #Denormalize the output\n",
    "    \n",
    "    def fit(self, epochs: int, learning_rate: float):\n",
    "        print(\"Training\")\n",
    "        self.errors_test = []\n",
    "        self.errors_train = []\n",
    "        for i in range(epochs):\n",
    "                \n",
    "            rand_index = random.randint(0, len(self.X)-1)\n",
    "            x = self.X[rand_index]\n",
    "            prediction = self.predict_normalized(x)\n",
    "            #Now to update the weights\n",
    "            for weight_index in range(len(self.coefficients)):\n",
    "                gradient = 2*(prediction - self.y[rand_index])*x[weight_index] \n",
    "                self.coefficients[weight_index] -= learning_rate * gradient\n",
    "\n",
    "            # Calculate MSE for train and test data and store it\n",
    "            # This is just for metrics, but unfortunately takes a vast majority\n",
    "            # of the computational power in this algorithm.\n",
    "            # As such, I have added an extra parameter, \"error_skip_length\"\n",
    "            # This will be used so that it only finds and stores the MSE at every error_skip_length'th epoch.\n",
    "            if self.store_errors and i % self.error_skip_length == 0:\n",
    "                if self.X_test != None and self.y_test != None:\n",
    "                    assert len(self.X_test) > 0\n",
    "                    assert len(self.X_test[0]) == len(self.X[0])\n",
    "\n",
    "                    predictions = []\n",
    "                    for j in range(len(self.X_test)):\n",
    "                        predictions.append(self.predict(self.X_test[j]))\n",
    "                    mse = mean_squared_error(self.y_test, predictions)\n",
    "                    #print(\"Epoch \" + str(i + 1) + \" test mse: \" + str(mse))\n",
    "                    self.errors_test.append(mean_squared_error(self.y_test, predictions))\n",
    "     \n",
    "\n",
    "                predictions = []\n",
    "                for j in range(len(self.X)):\n",
    "                    predictions.append(self.predict_normalized(self.X[j]))\n",
    "                mse = mean_squared_error(self.y, predictions)\n",
    "                #print(\"Epoch \" + str(i + 1) + \" train mse: \" + str(mse))\n",
    "                self.errors_train.append(mse)\n",
    "            \n",
    "\n",
    "#To test the validity of our algorithm, we will test it on some toy data with 3 features\n",
    "toy_data_x= []\n",
    "toy_data_y = []\n",
    "for i in range(10000):\n",
    "    gen_w = random.random()\n",
    "    gen_x = random.random()\n",
    "    gen_z = random.random() + 10\n",
    "    gen_y = gen_w + gen_x + gen_z + random.random() * 0.2 + 10\n",
    "    toy_data_x.append([gen_w, gen_x, gen_z])\n",
    "    toy_data_y.append(gen_y)\n",
    "\n",
    "model = Model(toy_data_x, toy_data_y, store_errors=True)\n",
    "model.fit(1000, 0.01)\n",
    "x_axis = [i for i in range(len(model.errors_train))]\n",
    "plt.plot(x_axis, model.errors_train)\n",
    "plt.xlabel(\"Epoch\")\n",
    "plt.ylabel(\"Error\")\n",
    "plt.title(\"Train MSE over epochs on toy data\")\n",
    "plt.show()\n",
    "\n",
    "#Now we will regress on the actual dataset using polynomial basis functions. HERE GOES!!!!\n",
    "poly = PolynomialFeatures(2)\n",
    "X_train_transformed = poly.fit_transform(X_train).tolist()\n",
    "y_train_transformed = y_train.values.tolist()\n",
    "\n",
    "X_test_transformed = poly.fit_transform(X_test).tolist()\n",
    "y_test_transformed = y_test.values.tolist()\n",
    "\n",
    "error_skip_length=20\n",
    "model = Model(X_train_transformed, y_train_transformed, store_errors=True, error_skip_length=error_skip_length, X_test=X_test_transformed, y_test=y_test_transformed)\n",
    "model.fit(3000, 0.0001)\n",
    "\n",
    "x_axis = [error_skip_length * i + 1 for i in range(len(model.errors_train))]\n",
    "plt.plot(x_axis, model.errors_train)\n",
    "plt.xlabel(\"Epoch\")\n",
    "plt.ylabel(\"Error\")\n",
    "plt.title(\"Train MSE over epochs on dataset\")\n",
    "plt.show()\n",
    "\n",
    "plt.plot(x_axis, model.errors_test)\n",
    "plt.xlabel(\"Epoch\")\n",
    "plt.ylabel(\"Error\")\n",
    "plt.title(\"Test MSE over epochs on dataset\")\n",
    "plt.show()"
   ]
  },
  {
   "cell_type": "markdown",
   "metadata": {},
   "source": [
    "So, we can see that the algorithm performed extremely well on the toy data (which is to be expected as the toy data was basically designed to be well-suited to multiple linear regression). On the actual data, it was still able to do something, but the reduction in MSE was somewhat underwhelming in comparison. The underwhelming reduction in MSE could be partially explained by the fact that the pre-trained model predicts the mean of all relevances as the prediction for relevance by standardizing the data to have a mean of 0 and having a vector of all 0's as the initial weight vector. This in itself is in the ballpark of already being accurate, meaning there was less to improve upon."
   ]
  },
  {
   "cell_type": "markdown",
   "metadata": {},
   "source": [
    "## PS1.C (15 points)\n",
    "\n",
    "Repeat the exercise of PS 1.B with the additional regualrization approach of  [this notebook](https://pantelis.github.io/data-mining/aiml-common/lectures/regression/linear-regression/linear_regression.html). Optimize $\\lambda$ showing the train and test MSE as a function of this hyperparameter and for the optimal value of $\\lambda$ plot the final train and test MSE as a function of the epochs."
   ]
  },
  {
   "cell_type": "markdown",
   "metadata": {},
   "source": [
    "So, when doing linear regression, it looks like we are now adding an extra term $\\frac{\\lambda}{2}||w||^2$. Our loss function for $m$ features is now\n",
    "\n",
    "$Err = (\\hat{y_i}-y_i)^2 + \\frac{\\lambda}{2}||w||^2$\n",
    "\n",
    "$= (\\hat{y_i}-y_i)^2 + \\frac{\\lambda}{2}\\sqrt{w_1^2 + w_2^2 + ... + w_m^2}^2$\n",
    "\n",
    "$= (\\hat{y_i}-y_i)^2 + \\frac{\\lambda}{2}(w_1^2 + w_2^2 + ... + w_m^2)$\n",
    "\n",
    "To calculate the derivative of this term with respect to a weight $w_j$, it looks like it's just going to be the power rule to give us\n",
    "\n",
    "$\\frac{dErr}{dw_j} = 2(\\hat{y}-y)x_j + \\lambda w_j$\n",
    "\n",
    "Which gives us our new gradient.\n",
    "\n",
    "I will optimize this hyperparameter using optuna."
   ]
  },
  {
   "cell_type": "code",
   "execution_count": 10,
   "metadata": {},
   "outputs": [
    {
     "name": "stderr",
     "output_type": "stream",
     "text": [
      "[I 2023-10-24 17:18:37,015] A new study created in memory with name: no-name-2e17f544-7446-43ab-afd0-917fb7f843a6\n"
     ]
    },
    {
     "name": "stdout",
     "output_type": "stream",
     "text": [
      "initializing\n"
     ]
    },
    {
     "name": "stderr",
     "output_type": "stream",
     "text": [
      "[I 2023-10-24 17:18:39,000] Trial 0 finished with value: 0.3307082293976374 and parameters: {'special_hyperparameter': 47.25367330797212}. Best is trial 0 with value: 0.3307082293976374.\n"
     ]
    },
    {
     "name": "stdout",
     "output_type": "stream",
     "text": [
      "Training\n",
      "initializing\n"
     ]
    },
    {
     "name": "stderr",
     "output_type": "stream",
     "text": [
      "[I 2023-10-24 17:18:40,970] Trial 1 finished with value: 0.33178093359870103 and parameters: {'special_hyperparameter': 97.36431949372772}. Best is trial 0 with value: 0.3307082293976374.\n"
     ]
    },
    {
     "name": "stdout",
     "output_type": "stream",
     "text": [
      "Training\n",
      "initializing\n"
     ]
    },
    {
     "name": "stderr",
     "output_type": "stream",
     "text": [
      "[I 2023-10-24 17:18:42,941] Trial 2 finished with value: 0.3284979341431861 and parameters: {'special_hyperparameter': 16.249819687983635}. Best is trial 2 with value: 0.3284979341431861.\n"
     ]
    },
    {
     "name": "stdout",
     "output_type": "stream",
     "text": [
      "Training\n",
      "initializing\n"
     ]
    },
    {
     "name": "stderr",
     "output_type": "stream",
     "text": [
      "[I 2023-10-24 17:18:44,910] Trial 3 finished with value: 0.3295257759063003 and parameters: {'special_hyperparameter': 39.535434417869034}. Best is trial 2 with value: 0.3284979341431861.\n"
     ]
    },
    {
     "name": "stdout",
     "output_type": "stream",
     "text": [
      "Training\n",
      "initializing\n",
      "Training\n"
     ]
    },
    {
     "name": "stderr",
     "output_type": "stream",
     "text": [
      "[I 2023-10-24 17:18:46,878] Trial 4 finished with value: 0.33424330075476893 and parameters: {'special_hyperparameter': 28.430884705218816}. Best is trial 2 with value: 0.3284979341431861.\n"
     ]
    },
    {
     "name": "stdout",
     "output_type": "stream",
     "text": [
      "initializing\n"
     ]
    },
    {
     "name": "stderr",
     "output_type": "stream",
     "text": [
      "[I 2023-10-24 17:18:48,857] Trial 5 finished with value: 0.3324386615869085 and parameters: {'special_hyperparameter': 54.05369456680115}. Best is trial 2 with value: 0.3284979341431861.\n"
     ]
    },
    {
     "name": "stdout",
     "output_type": "stream",
     "text": [
      "Training\n",
      "initializing\n"
     ]
    },
    {
     "name": "stderr",
     "output_type": "stream",
     "text": [
      "[I 2023-10-24 17:18:50,819] Trial 6 finished with value: 0.33397488851912316 and parameters: {'special_hyperparameter': 70.65105521733355}. Best is trial 2 with value: 0.3284979341431861.\n"
     ]
    },
    {
     "name": "stdout",
     "output_type": "stream",
     "text": [
      "Training\n",
      "initializing\n"
     ]
    },
    {
     "name": "stderr",
     "output_type": "stream",
     "text": [
      "[I 2023-10-24 17:18:52,789] Trial 7 finished with value: 0.33004423323161464 and parameters: {'special_hyperparameter': 32.79572586172947}. Best is trial 2 with value: 0.3284979341431861.\n"
     ]
    },
    {
     "name": "stdout",
     "output_type": "stream",
     "text": [
      "Training\n",
      "initializing\n"
     ]
    },
    {
     "name": "stderr",
     "output_type": "stream",
     "text": [
      "[I 2023-10-24 17:18:54,753] Trial 8 finished with value: 0.3358403690012865 and parameters: {'special_hyperparameter': 98.46563597844727}. Best is trial 2 with value: 0.3284979341431861.\n"
     ]
    },
    {
     "name": "stdout",
     "output_type": "stream",
     "text": [
      "Training\n",
      "initializing\n"
     ]
    },
    {
     "name": "stderr",
     "output_type": "stream",
     "text": [
      "[I 2023-10-24 17:18:56,721] Trial 9 finished with value: 0.3333330139823562 and parameters: {'special_hyperparameter': 99.95556382944983}. Best is trial 2 with value: 0.3284979341431861.\n"
     ]
    },
    {
     "name": "stdout",
     "output_type": "stream",
     "text": [
      "Training\n",
      "initializing\n"
     ]
    },
    {
     "name": "stderr",
     "output_type": "stream",
     "text": [
      "[I 2023-10-24 17:18:58,687] Trial 10 finished with value: 0.333366007775433 and parameters: {'special_hyperparameter': 4.9036918084452825}. Best is trial 2 with value: 0.3284979341431861.\n"
     ]
    },
    {
     "name": "stdout",
     "output_type": "stream",
     "text": [
      "Training\n",
      "initializing\n",
      "Training\n"
     ]
    },
    {
     "name": "stderr",
     "output_type": "stream",
     "text": [
      "[I 2023-10-24 17:19:00,667] Trial 11 finished with value: 0.34211634275685116 and parameters: {'special_hyperparameter': 2.821720243992086}. Best is trial 2 with value: 0.3284979341431861.\n"
     ]
    },
    {
     "name": "stdout",
     "output_type": "stream",
     "text": [
      "initializing\n",
      "Training\n"
     ]
    },
    {
     "name": "stderr",
     "output_type": "stream",
     "text": [
      "[I 2023-10-24 17:19:02,620] Trial 12 finished with value: 0.33151260345540134 and parameters: {'special_hyperparameter': 19.865381516989146}. Best is trial 2 with value: 0.3284979341431861.\n"
     ]
    },
    {
     "name": "stdout",
     "output_type": "stream",
     "text": [
      "initializing\n",
      "Training\n"
     ]
    },
    {
     "name": "stderr",
     "output_type": "stream",
     "text": [
      "[I 2023-10-24 17:19:04,600] Trial 13 finished with value: 0.328895461880458 and parameters: {'special_hyperparameter': 18.698461538236252}. Best is trial 2 with value: 0.3284979341431861.\n"
     ]
    },
    {
     "name": "stdout",
     "output_type": "stream",
     "text": [
      "initializing\n",
      "Training\n"
     ]
    },
    {
     "name": "stderr",
     "output_type": "stream",
     "text": [
      "[I 2023-10-24 17:19:06,560] Trial 14 finished with value: 0.32913733414749485 and parameters: {'special_hyperparameter': 17.026699543556948}. Best is trial 2 with value: 0.3284979341431861.\n"
     ]
    },
    {
     "name": "stdout",
     "output_type": "stream",
     "text": [
      "initializing\n",
      "Training\n"
     ]
    },
    {
     "name": "stderr",
     "output_type": "stream",
     "text": [
      "[I 2023-10-24 17:19:08,529] Trial 15 finished with value: 0.3299092803352605 and parameters: {'special_hyperparameter': 14.857369978017115}. Best is trial 2 with value: 0.3284979341431861.\n"
     ]
    },
    {
     "name": "stdout",
     "output_type": "stream",
     "text": [
      "initializing\n"
     ]
    },
    {
     "name": "stderr",
     "output_type": "stream",
     "text": [
      "[I 2023-10-24 17:19:10,486] Trial 16 finished with value: 0.348815702357006 and parameters: {'special_hyperparameter': 1.0843207621488489}. Best is trial 2 with value: 0.3284979341431861.\n"
     ]
    },
    {
     "name": "stdout",
     "output_type": "stream",
     "text": [
      "Training\n",
      "initializing\n"
     ]
    },
    {
     "name": "stderr",
     "output_type": "stream",
     "text": [
      "[I 2023-10-24 17:19:12,441] Trial 17 finished with value: 0.32814487305475704 and parameters: {'special_hyperparameter': 24.843653216416403}. Best is trial 17 with value: 0.32814487305475704.\n"
     ]
    },
    {
     "name": "stdout",
     "output_type": "stream",
     "text": [
      "Training\n",
      "initializing\n"
     ]
    },
    {
     "name": "stderr",
     "output_type": "stream",
     "text": [
      "[I 2023-10-24 17:19:14,413] Trial 18 finished with value: 0.33178153276196626 and parameters: {'special_hyperparameter': 30.05081353438744}. Best is trial 17 with value: 0.32814487305475704.\n"
     ]
    },
    {
     "name": "stdout",
     "output_type": "stream",
     "text": [
      "Training\n",
      "initializing\n",
      "Training\n"
     ]
    },
    {
     "name": "stderr",
     "output_type": "stream",
     "text": [
      "[I 2023-10-24 17:19:16,378] Trial 19 finished with value: 0.33408745067840606 and parameters: {'special_hyperparameter': 9.841767245204455}. Best is trial 17 with value: 0.32814487305475704.\n"
     ]
    },
    {
     "name": "stdout",
     "output_type": "stream",
     "text": [
      "initializing\n",
      "Training\n"
     ]
    },
    {
     "name": "stderr",
     "output_type": "stream",
     "text": [
      "[I 2023-10-24 17:19:18,331] Trial 20 finished with value: 0.3297240068075064 and parameters: {'special_hyperparameter': 22.832465143018013}. Best is trial 17 with value: 0.32814487305475704.\n"
     ]
    },
    {
     "name": "stdout",
     "output_type": "stream",
     "text": [
      "initializing\n"
     ]
    },
    {
     "name": "stderr",
     "output_type": "stream",
     "text": [
      "[I 2023-10-24 17:19:20,292] Trial 21 finished with value: 0.3287488607794677 and parameters: {'special_hyperparameter': 15.034815191419888}. Best is trial 17 with value: 0.32814487305475704.\n"
     ]
    },
    {
     "name": "stdout",
     "output_type": "stream",
     "text": [
      "Training\n",
      "initializing\n"
     ]
    },
    {
     "name": "stderr",
     "output_type": "stream",
     "text": [
      "[I 2023-10-24 17:19:22,242] Trial 22 finished with value: 0.32850657776139164 and parameters: {'special_hyperparameter': 9.88480013873807}. Best is trial 17 with value: 0.32814487305475704.\n"
     ]
    },
    {
     "name": "stdout",
     "output_type": "stream",
     "text": [
      "Training\n",
      "initializing\n"
     ]
    },
    {
     "name": "stderr",
     "output_type": "stream",
     "text": [
      "[I 2023-10-24 17:19:24,205] Trial 23 finished with value: 0.3309536801273739 and parameters: {'special_hyperparameter': 9.089770183396123}. Best is trial 17 with value: 0.32814487305475704.\n"
     ]
    },
    {
     "name": "stdout",
     "output_type": "stream",
     "text": [
      "Training\n",
      "initializing\n"
     ]
    },
    {
     "name": "stderr",
     "output_type": "stream",
     "text": [
      "[I 2023-10-24 17:19:26,162] Trial 24 finished with value: 0.3293675660098305 and parameters: {'special_hyperparameter': 9.278073781933784}. Best is trial 17 with value: 0.32814487305475704.\n"
     ]
    },
    {
     "name": "stdout",
     "output_type": "stream",
     "text": [
      "Training\n",
      "initializing\n"
     ]
    },
    {
     "name": "stderr",
     "output_type": "stream",
     "text": [
      "[I 2023-10-24 17:19:28,151] Trial 25 finished with value: 0.3439363121405665 and parameters: {'special_hyperparameter': 0.042980562180371606}. Best is trial 17 with value: 0.32814487305475704.\n"
     ]
    },
    {
     "name": "stdout",
     "output_type": "stream",
     "text": [
      "Training\n",
      "initializing\n"
     ]
    },
    {
     "name": "stderr",
     "output_type": "stream",
     "text": [
      "[I 2023-10-24 17:19:30,162] Trial 26 finished with value: 0.32867577082711796 and parameters: {'special_hyperparameter': 23.680429926714588}. Best is trial 17 with value: 0.32814487305475704.\n"
     ]
    },
    {
     "name": "stdout",
     "output_type": "stream",
     "text": [
      "Training\n",
      "initializing\n"
     ]
    },
    {
     "name": "stderr",
     "output_type": "stream",
     "text": [
      "[I 2023-10-24 17:19:32,171] Trial 27 finished with value: 0.3309902296469787 and parameters: {'special_hyperparameter': 11.54184220661281}. Best is trial 17 with value: 0.32814487305475704.\n"
     ]
    },
    {
     "name": "stdout",
     "output_type": "stream",
     "text": [
      "Training\n",
      "initializing\n"
     ]
    },
    {
     "name": "stderr",
     "output_type": "stream",
     "text": [
      "[I 2023-10-24 17:19:34,140] Trial 28 finished with value: 0.32932462451427524 and parameters: {'special_hyperparameter': 33.58233201704344}. Best is trial 17 with value: 0.32814487305475704.\n"
     ]
    }
   ],
   "source": [
    "import optuna\n",
    "\n",
    "class Model_2:\n",
    "    def __init__(self, X: list[list[float]], y: list[float], store_errors: bool = False, special_hyperparameter=0, error_skip_length: int = 1, X_test: list[list[float]] = None, y_test: list[float] = None):\n",
    "        assert len(X) > 0\n",
    "        print(\"initializing\")\n",
    "        self.special_hyperparameter=special_hyperparameter\n",
    "        self.store_errors = store_errors\n",
    "        self.error_skip_length = error_skip_length\n",
    "        self.errors_train = [] # Will store the MSE as a function of epochs \n",
    "        self.errors_test = []\n",
    "        self.coefficients = [0 for i in range(len(X[0]))]\n",
    "        self.y_intercept = numpy.mean(y)\n",
    "        x_t = numpy.transpose(X)\n",
    "        self.x_intercepts = []\n",
    "        for column in range(len(x_t)):\n",
    "            self.x_intercepts.append(numpy.mean(x_t[column]))\n",
    "        \n",
    "        #Normalize the data\n",
    "        self.X = X.copy()\n",
    "        for row in range(len(self.X)):\n",
    "            self.normalize(self.X[row])\n",
    "        self.y = y.copy()\n",
    "        for i in range(len(self.y)):\n",
    "            self.y[i] -= self.y_intercept\n",
    "\n",
    "        self.X_test = X_test\n",
    "        self.y_test = y_test\n",
    "    #Normalize inputs\n",
    "    def normalize(self, x: list[float]):\n",
    "        assert len(x) == len(self.coefficients)\n",
    "        for i in range(len(x)):\n",
    "                x[i] -= self.x_intercepts[i]\n",
    "\n",
    "    #Predict the normalized y value given normalized x values\n",
    "    def predict_normalized(self, x: list[float]) -> float:\n",
    "        assert len(x) == len(self.coefficients)\n",
    "        return numpy.dot(self.coefficients, x)\n",
    "\n",
    "\n",
    "    #Predict the y value given x values\n",
    "    def predict(self, x: list[float]) -> float:\n",
    "        assert len(x) == len(self.coefficients)\n",
    "        x_normalized = x.copy()\n",
    "        self.normalize(x_normalized) #Normalize the input\n",
    "        return self.predict_normalized(x_normalized) + self.y_intercept #Denormalize the output\n",
    "    \n",
    "    def fit(self, epochs: int, learning_rate: float):\n",
    "        print(\"Training\")\n",
    "        self.errors_test = []\n",
    "        self.errors_train = []\n",
    "        for i in range(epochs):\n",
    "                \n",
    "            rand_index = random.randint(0, len(self.X)-1)\n",
    "            x = self.X[rand_index]\n",
    "            prediction = self.predict_normalized(x)\n",
    "            #Now to update the weights\n",
    "            for weight_index in range(len(self.coefficients)):\n",
    "                gradient = 2*(prediction - self.y[rand_index])*x[weight_index] + self.special_hyperparameter * self.coefficients[weight_index]\n",
    "                self.coefficients[weight_index] -= learning_rate * gradient\n",
    "\n",
    "            # Calculate MSE for train and test data and store it\n",
    "            # This is just for metrics, but unfortunately takes a vast majority\n",
    "            # of the computational power in this algorithm.\n",
    "            # As such, I have added an extra parameter, \"error_skip_length\"\n",
    "            # This will be used so that it only finds and stores the MSE at every error_skip_length'th epoch.\n",
    "            if self.store_errors and i % self.error_skip_length == 0:\n",
    "                if self.X_test is not None and self.y_test is not None:\n",
    "                    assert len(self.X_test) > 0\n",
    "                    assert len(self.X_test[0]) == len(self.X[0])\n",
    "\n",
    "                    predictions = []\n",
    "                    for j in range(len(self.X_test)):\n",
    "                        predictions.append(self.predict(self.X_test[j]))\n",
    "                    mse = mean_squared_error(self.y_test, predictions)\n",
    "                    #print(\"Epoch \" + str(i + 1) + \" test mse: \" + str(mse))\n",
    "                    self.errors_test.append(mean_squared_error(self.y_test, predictions))\n",
    "     \n",
    "\n",
    "                predictions = []\n",
    "                for j in range(len(self.X)):\n",
    "                    predictions.append(self.predict_normalized(self.X[j]))\n",
    "                mse = mean_squared_error(self.y, predictions)\n",
    "                #print(\"Epoch \" + str(i + 1) + \" train mse: \" + str(mse))\n",
    "                self.errors_train.append(mse)\n",
    "            \n",
    "train_errors = []\n",
    "test_errors = []\n",
    "def train_regressor(trial):\n",
    "    special_hyperparameter = trial.suggest_float(\"special_hyperparameter\", low = 0, high=100)\n",
    "    model = Model_2(X_train_transformed, y_train_transformed, special_hyperparameter=special_hyperparameter)\n",
    "    model.fit(3000, 0.0001)\n",
    "\n",
    "\n",
    "    y_pred = []\n",
    "    for i in range(len(X_train_transformed)):\n",
    "        y_pred.append(model.predict(X_train_transformed[i]))\n",
    "    error = mean_squared_error(y_train, y_pred)\n",
    "    train_errors.append(error)\n",
    "\n",
    "    y_pred = []\n",
    "    for i in range(len(X_test_transformed)):\n",
    "        y_pred.append(model.predict(X_test_transformed[i]))\n",
    "    error = mean_squared_error(y_test, y_pred)\n",
    "    test_errors.append(error)\n",
    "    return error\n",
    "\n",
    "study = optuna.create_study(direction='minimize')\n",
    "study.optimize(train_regressor, n_trials=30)\n",
    "\n",
    "plt.scatter([study.trials[i].params[\"special_hyperparameter\"] for i in range(len(study.trials))], train_errors)\n",
    "plt.xlabel(\"Special hyperparameter value\")\n",
    "plt.ylabel(\"Train mean squared error of final model\")\n",
    "plt.title(\"Hyperparameter optimization\")\n",
    "plt.show()\n",
    "\n",
    "plt.scatter([study.trials[i].params[\"special_hyperparameter\"] for i in range(len(study.trials))], test_errors)\n",
    "plt.xlabel(\"Special hyperparameter value\")\n",
    "plt.ylabel(\"Test mean squared error of final model\")\n",
    "plt.title(\"Hyperparameter optimization\")\n",
    "plt.show()\n",
    "\n",
    "error_skip_length = 20\n",
    "final_model = Model_2(X_train_transformed, y_train_transformed, special_hyperparameter=study.best_params[\"special_hyperparameter\"], store_errors=True, error_skip_length=error_skip_length, X_test=X_test_transformed, y_test=y_test_transformed)\n",
    "final_model.fit(3000, 0.00007)\n",
    "x_axis = [error_skip_length * i + 1 for i in range(len(final_model.errors_train))]\n",
    "plt.plot(x_axis, final_model.errors_train)\n",
    "plt.xlabel(\"Epoch\")\n",
    "plt.ylabel(\"Error\")\n",
    "plt.title(\"Train MSE over epochs on dataset with tuned hyperparameter\")\n",
    "plt.show()\n",
    "\n",
    "plt.plot(x_axis, final_model.errors_test)\n",
    "plt.xlabel(\"Epoch\")\n",
    "plt.ylabel(\"Error\")\n",
    "plt.title(\"Test MSE over epochs on dataset with tuned hyperparameter\")\n",
    "plt.show()"
   ]
  },
  {
   "cell_type": "markdown",
   "metadata": {},
   "source": [
    "Wow that did not help much at all. Nevertheless, it was successfully incorporated and did not have a significantly detrimental effect on our model, which still shows a reduction in MSE after training. We can see that some values were bad for our training data performance, but good for our testing data performance. I cannot say that this definitively improved the model's performance overall. I'm sure that in another situation, this added functionality to the Model_2 class could prove useful."
   ]
  }
 ],
 "metadata": {
  "kernelspec": {
   "display_name": "Python 3",
   "language": "python",
   "name": "python3"
  },
  "language_info": {
   "codemirror_mode": {
    "name": "ipython",
    "version": 3
   },
   "file_extension": ".py",
   "mimetype": "text/x-python",
   "name": "python",
   "nbconvert_exporter": "python",
   "pygments_lexer": "ipython3",
   "version": "3.10.12"
  }
 },
 "nbformat": 4,
 "nbformat_minor": 2
}
