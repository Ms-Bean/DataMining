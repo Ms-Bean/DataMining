{
 "cells": [
  {
   "cell_type": "markdown",
   "metadata": {},
   "source": [
    "# Problem Set 1 (40 points) -   Take-Home\n",
    "\n",
    "You have been tasked to implement a predictor that will _rank_ documents according to their relevancy to a given query. \n",
    "\n",
    "You will use the [LETOR 4.0 dataset MQ2007]( https://arxiv.org/pdf/1306.2597.pdf) that has already been downloaded and is available in the `data` folder.\n",
    "\n",
    "Each row is a query-document pair. The first column is the relevance label of this pair, the second column is query id, the following columns are features, and the end of the row is comment about the pair, including id of the document. The larger the relevance label, the more relevant the query-document pair. A query-document pair is represented by a 46-dimensional feature vector. "
   ]
  },
  {
   "cell_type": "markdown",
   "metadata": {},
   "source": [
    "## PS1.A (5 points) - Data Exploration\n",
    "\n",
    "Create a pandas frame of the dataset and _print_ the first 5 rows in format where the first row will show the column names of the dataset. Instead of the feature names you can conveniently use the column index as a name.  \n",
    "\n",
    "Is the 2nd column which is the query id a feature or not ?  Answer the question by coding the production of the $\\mathbf x$ feature container and the $label y$ label container.  "
   ]
  },
  {
   "cell_type": "code",
   "execution_count": 1,
   "metadata": {},
   "outputs": [],
   "source": [
    "# Insert the code here\n",
    "import pandas\n",
    "\n",
    "#Convert whatever the heck this is right to CSV\n",
    "file_in = open(\"Querylevelnorm.txt\", \"r\") \n",
    "file_out = open(\"Querylevelnorm.csv\", \"w\")\n",
    "column_names=[\"relevance\", \"qid\"]\n",
    "column_names.extend(str(i + 1) for i in range(46))\n",
    "file_out.write(\",\".join(column_names))\n",
    "file_out.write(\"\\n\")\n",
    "for line in file_in:\n",
    "    components = line.split(\" \")\n",
    "    components = components[:48]\n",
    "    for i in range(47):\n",
    "        components[i+1] = components[i+1].split(\":\")[1]\n",
    "    file_out.write(\",\".join(components))\n",
    "    file_out.write(\"\\n\")\n",
    "\n"
   ]
  },
  {
   "cell_type": "code",
   "execution_count": 2,
   "metadata": {},
   "outputs": [
    {
     "name": "stdout",
     "output_type": "stream",
     "text": [
      "              1         2         3    4         5    6    7    8    9   10  \\\n",
      "53191  0.002930  0.333333  0.500000  0.0  0.006836  0.0  0.0  0.0  0.0  0.0   \n",
      "15837  0.014019  0.000000  0.833333  0.0  0.023419  0.0  0.0  0.0  0.0  0.0   \n",
      "15642  0.264386  0.000000  0.000000  0.0  0.264386  0.0  0.0  0.0  0.0  0.0   \n",
      "61009  0.056641  0.000000  0.000000  0.0  0.056641  0.0  0.0  0.0  0.0  0.0   \n",
      "50577  0.119221  0.000000  0.000000  0.0  0.119221  0.0  0.0  0.0  0.0  0.0   \n",
      "\n",
      "       ...        37        38        39        40        41        42  \\\n",
      "53191  ...  0.700314  0.445688  0.215024  0.345820  0.005860  0.028169   \n",
      "15837  ...  0.657504  0.513192  0.426858  0.464825  0.004556  0.023468   \n",
      "15642  ...  0.730436  0.611270  0.574050  0.646457  0.025523  0.029412   \n",
      "61009  ...  0.980267  0.851066  0.885094  0.754999  0.006752  0.333333   \n",
      "50577  ...  0.653624  0.629436  0.766006  0.646783  0.072479  0.104167   \n",
      "\n",
      "             43        44        45   46  \n",
      "53191  0.000000  0.571429  0.270000  0.0  \n",
      "15837  0.215534  0.500000  0.284314  0.0  \n",
      "15642  0.000000  0.500000  0.378378  0.0  \n",
      "61009  0.000000  0.857143  0.286822  0.0  \n",
      "50577  0.058824  0.500000  0.303571  0.0  \n",
      "\n",
      "[5 rows x 46 columns]\n",
      "53191    0\n",
      "15837    0\n",
      "15642    0\n",
      "61009    0\n",
      "50577    1\n",
      "Name: relevance, dtype: int64\n"
     ]
    }
   ],
   "source": [
    "from sklearn.model_selection import train_test_split \n",
    "\n",
    "#And now read it into the dataframes for train and test data\n",
    "dataframe = pandas.read_csv(\"Querylevelnorm.csv\")\n",
    "train, test = train_test_split(dataframe, test_size=0.2)\n",
    "X_test = test.drop([\"relevance\", \"qid\"], axis=1).iloc[:500]\n",
    "y_test = test[\"relevance\"].iloc[:500]\n",
    "X_train = train.drop([\"relevance\", \"qid\"], axis=1).iloc[:5000]\n",
    "y_train = train[\"relevance\"].iloc[:5000]\n",
    "\n",
    "print(X_train.head(5))\n",
    "print(y_train.head(5))"
   ]
  },
  {
   "cell_type": "markdown",
   "metadata": {},
   "source": [
    "## PS1.B (20 points)\n",
    "\n",
    "Consult your textbook notebook `#4`` (the one that corresponds to Chapter 4) and express the problem of ranking as a regression problem. State the problem and implement the solution using the polynomial basis functions just like in [this notebook](https://pantelis.github.io/data-mining/aiml-common/lectures/regression/linear-regression/linear_regression.html). Solve the linear regression problem using SGD. Report the train and test MSE as a function of the epochs. \n"
   ]
  },
  {
   "cell_type": "markdown",
   "metadata": {},
   "source": [
    "This ranking problem can be turned into a regression problem by treating the ranking as a continuous variable. We can use linear regression by applying a polynomial basis function and then performing linear regression on the transformed dataset. To do this, we will be preprocessing the data using the dimensionality reduction, polynomial basis function, and standardization facilities of Scikit, and then we will implement multiple linear regression and stochastic gradient descent from scratch using the absolute undeniable TRUTH of mathematics, and use the algorithm to train a model on the preprocessed data.\n",
    "\n",
    "We are first normalizing our data such that the mean is 0, so we do not need to worry about intercepts. Our prediction is therefore\n",
    "\n",
    "$\\hat{y_i} = w_1x_{i1} + w_2x_{i2} + ... + w_mx_{im}$\n",
    "\n",
    "And our error when predicting $n$ data points will be\n",
    "\n",
    "$Err = \\frac{1}{n}\\sum_{i=1}^{n}(\\hat{y_i}-y_i)^2$\n",
    "\n",
    "Now we derive this with respect to a given weight, say, $w_j$.\n",
    "\n",
    "$\\frac{dErr}{dw_j} = \\frac{d}{dw_j} \\frac{1}{n}\\sum_{i=1}^{n}(\\hat{y_i}-y_i)^2$\n",
    "\n",
    "$=\\frac{1}{n}\\sum_{i=1}^{n} \\frac{d}{dw_j} (\\hat{y_i}-y_i)^2$\n",
    "\n",
    "$\\frac{d}{dw_j} (\\hat{y_i}-y_i)^2 = 2(\\hat{y_i}-y_i)(\\frac{d}{dw_j}(\\hat{y_i}-y_i))$\n",
    "\n",
    "$\\frac{d}{dw_j}(\\hat{y_i}-y_i) = \\frac{d}{dw_j}\\hat{y_i} = \\frac{d}{dw_j}w_jx_{ij} = x_{ij}$\n",
    "\n",
    "$\\frac{dErr}{dw_j} = \\frac{2}{n}\\sum_{i=1}^{n}(\\hat{y_i}-y_i)x_{ij}$\n",
    "\n",
    "In the case of stoachastic gradient descent, we have $n=1$\n",
    "\n",
    "$\\frac{dErr}{dw_j} = 2(\\hat{y}-y)x_j$\n",
    "\n",
    "We now have the mathematical TRUTH we need to implement SGD from scratch. Even in C if we so chose. We'll test our algorithm on some toy data well-suited to multiple linear regression to make sure we have not made a fatal error in implementation or in mathematical reasoning, and then we'll test it on the dataset."
   ]
  },
  {
   "cell_type": "code",
   "execution_count": 54,
   "metadata": {},
   "outputs": [
    {
     "name": "stdout",
     "output_type": "stream",
     "text": [
      "initializing\n",
      "Training\n"
     ]
    },
    {
     "data": {
      "image/png": "[encoded data removed]",
      "text/plain": [
       "<Figure size 640x480 with 1 Axes>"
      ]
     },
     "metadata": {},
     "output_type": "display_data"
    },
    {
     "name": "stdout",
     "output_type": "stream",
     "text": [
      "initializing\n",
      "Training\n"
     ]
    },
    {
     "data": {
      "image/png": "[encoded data removed]",
      "text/plain": [
       "<Figure size 640x480 with 1 Axes>"
      ]
     },
     "metadata": {},
     "output_type": "display_data"
    }
   ],
   "source": [
    "# Insert code here\n",
    "from sklearn.preprocessing import PolynomialFeatures\n",
    "from sklearn.decomposition import PCA\n",
    "from sklearn.metrics import mean_squared_error\n",
    "import numpy\n",
    "import random\n",
    "from matplotlib import pyplot as plt\n",
    "\n",
    "class Model:\n",
    "    def __init__(self, X: list[list[float]], y: list[float], store_errors: bool = False, error_skip_length: int = 1, X_test: list[list[float]] = None, y_test: list[float] = None):\n",
    "        assert len(X) > 0\n",
    "        print(\"initializing\")\n",
    "        self.store_errors = store_errors\n",
    "        self.error_skip_length = error_skip_length\n",
    "        self.errors_train = [] # Will store the MSE as a function of epochs \n",
    "        self.errors_test = []\n",
    "        self.coefficients = [0 for i in range(len(X[0]))]\n",
    "        self.y_intercept = numpy.mean(y)\n",
    "        x_t = numpy.transpose(X)\n",
    "        self.x_intercepts = []\n",
    "        for column in range(len(x_t)):\n",
    "            self.x_intercepts.append(numpy.mean(x_t[column]))\n",
    "        \n",
    "        #Normalize the data\n",
    "        self.X = X.copy()\n",
    "        for row in range(len(self.X)):\n",
    "            self.normalize(self.X[row])\n",
    "        self.y = y.copy()\n",
    "        for i in range(len(self.y)):\n",
    "            self.y[i] -= self.y_intercept\n",
    "\n",
    "        self.X_test = X_test\n",
    "        self.y_test = y_test\n",
    "    #Normalize inputs\n",
    "    def normalize(self, x: list[float]):\n",
    "        assert len(x) == len(self.coefficients)\n",
    "        for i in range(len(x)):\n",
    "                x[i] -= self.x_intercepts[i]\n",
    "\n",
    "    #Predict the normalized y value given normalized x values\n",
    "    def predict_normalized(self, x: list[float]) -> float:\n",
    "        assert len(x) == len(self.coefficients)\n",
    "        return numpy.dot(self.coefficients, x)\n",
    "\n",
    "\n",
    "    #Predict the y value given x values\n",
    "    def predict(self, x: list[float]) -> float:\n",
    "        assert len(x) == len(self.coefficients)\n",
    "        x_normalized = x.copy()\n",
    "        self.normalize(x_normalized) #Normalize the input\n",
    "        return self.predict_normalized(x_normalized) + self.y_intercept #Denormalize the output\n",
    "    \n",
    "    def fit(self, epochs: int, learning_rate: float):\n",
    "        print(\"Training\")\n",
    "        self.errors_test = []\n",
    "        self.errors_train = []\n",
    "        for i in range(epochs):\n",
    "            rand_index = random.randint(0, len(self.X)-1)\n",
    "            x = self.X[rand_index]\n",
    "            prediction = self.predict_normalized(x)\n",
    "            #Now to update the weights\n",
    "            for weight_index in range(len(self.coefficients)):\n",
    "                gradient = 2*(prediction - self.y[rand_index])*x[weight_index] \n",
    "                self.coefficients[weight_index] -= learning_rate * gradient\n",
    "\n",
    "            # Calculate MSE for train and test data and store it\n",
    "            # This is just for metrics, but unfortunately takes a vast majority\n",
    "            # of the computational power in this algorithm.\n",
    "            # As such, I have added an extra parameter, \"error_skip_length\"\n",
    "            # This will be used so that it only finds and stores the MSE at every error_skip_length'th epoch.\n",
    "            if self.store_errors and i % self.error_skip_length == 0:\n",
    "                if self.X_test != None and self.y_test != None:\n",
    "                    assert len(self.X_test) > 0\n",
    "                    assert len(self.X_test[0]) == len(self.X[0])\n",
    "\n",
    "                    predictions = []\n",
    "                    for j in range(len(self.X_test)):\n",
    "                        predictions.append(self.predict(self.X_test[j]))\n",
    "                    mse = mean_squared_error(self.y_test, predictions)\n",
    "                    print(\"Epoch \" + str(i + 1) + \" test mse: \" + str(mse))\n",
    "                    self.errors_test.append(mean_squared_error(self.y_test, predictions))\n",
    "     \n",
    "\n",
    "                predictions = []\n",
    "                for j in range(len(self.X)):\n",
    "                    predictions.append(self.predict_normalized(self.X[j]))\n",
    "                mse = mean_squared_error(self.y, predictions)\n",
    "                print(\"Epoch \" + str(i + 1) + \" train mse: \" + str(mse))\n",
    "                self.errors_train.append(mse)\n",
    "    \n",
    "\n",
    "#To test the validity of our algorithm, we will test it on some toy data with 3 features\n",
    "toy_data_x= []\n",
    "toy_data_y = []\n",
    "for i in range(10000):\n",
    "    gen_w = random.random()\n",
    "    gen_x = random.random()\n",
    "    gen_z = random.random() + 10\n",
    "    gen_y = gen_w + gen_x + gen_z + random.random() * 0.2 + 10\n",
    "    toy_data_x.append([gen_w, gen_x, gen_z])\n",
    "    toy_data_y.append(gen_y)\n",
    "\n",
    "model = Model(toy_data_x, toy_data_y, store_errors=True)\n",
    "model.fit(1000, 0.01)\n",
    "x_axis = [i for i in range(len(model.errors_train))]\n",
    "plt.plot(x_axis, model.errors_train)\n",
    "plt.xlabel(\"Epoch\")\n",
    "plt.ylabel(\"Error\")\n",
    "plt.title(\"Train MSE over epochs on toy data\")\n",
    "plt.show()\n",
    "\n",
    "#Now we will regress on the actual dataset using polynomial basis functions. HERE GOES!!!!\n",
    "error_skip_length = 100\n",
    "\n",
    "poly = PolynomialFeatures(2)\n",
    "pca = PCA(n_components=10)\n",
    "X_train_reduced = PCA.fit(X_train)\n",
    "X_train_transformed = poly.fit_transform(X_train).tolist()\n",
    "y_train_transformed = y_train.values.tolist()\n",
    "\n",
    "X_test_transformed = poly.fit_transform(X_test).tolist()\n",
    "y_test_transformed = y_test.values.tolist()\n",
    "\n",
    "model = Model(X_train_transformed, y_train_transformed, store_errors=True, error_skip_length=error_skip_length, X_test=X_test_transformed, y_test=y_test_transformed)\n",
    "model.fit(10000, 0.0001)\n",
    "\n",
    "x_axis = [error_skip_length * i + 1 for i in range(len(model.errors_train))]\n",
    "plt.plot(x_axis, model.errors_train)\n",
    "plt.xlabel(\"Epoch\")\n",
    "plt.ylabel(\"Error\")\n",
    "plt.title(\"Train MSE over epochs on dataset\")\n",
    "plt.show()\n",
    "\n",
    "x_axis = [error_skip_length * i + 1 for i in range(len(model.errors_train))]\n",
    "plt.plot(x_axis, model.errors_test)\n",
    "plt.xlabel(\"Epoch\")\n",
    "plt.ylabel(\"Error\")\n",
    "plt.title(\"Test MSE over epochs on dataset\")\n",
    "plt.show()"
   ]
  },
  {
   "cell_type": "markdown",
   "metadata": {},
   "source": [
    "So, we can see that the algorithm performed extremely well on the toy data (which is to be expected as the toy data was basically designed to be well-suited to multiple linear regression). On the actual data, it was still able to improve a little bit from training. In our implementation, the behavior of the model before training would be to simply predict the relevance as the mean of the relevances in the test data. The drop in MSE when predicting on both the test and training data shows that it gained some ability to discriminate between relevant and irrelevant queries."
   ]
  },
  {
   "cell_type": "code",
   "execution_count": 53,
   "metadata": {},
   "outputs": [
    {
     "name": "stdout",
     "output_type": "stream",
     "text": [
      "initializing\n",
      "Training\n"
     ]
    },
    {
     "ename": "AssertionError",
     "evalue": "",
     "output_type": "error",
     "traceback": [
      "\u001b[0;31m---------------------------------------------------------------------------\u001b[0m",
      "\u001b[0;31mAssertionError\u001b[0m                            Traceback (most recent call last)",
      "\u001b[1;32m/home/msbean/DataMining/MidtermP1/take-at-home_2.ipynb Cell 9\u001b[0m line \u001b[0;36m2\n\u001b[1;32m     <a href='vscode-notebook-cell:/home/msbean/DataMining/MidtermP1/take-at-home_2.ipynb#X20sZmlsZQ%3D%3D?line=17'>18</a>\u001b[0m y_test_scaled \u001b[39m=\u001b[39m data_scaler_y_test\u001b[39m.\u001b[39mfit_transform([[y] \u001b[39mfor\u001b[39;00m y \u001b[39min\u001b[39;00m y_test\u001b[39m.\u001b[39mtolist()])\n\u001b[1;32m     <a href='vscode-notebook-cell:/home/msbean/DataMining/MidtermP1/take-at-home_2.ipynb#X20sZmlsZQ%3D%3D?line=20'>21</a>\u001b[0m model \u001b[39m=\u001b[39m Model(X_experiment, y_train_scaled, store_errors\u001b[39m=\u001b[39m\u001b[39mTrue\u001b[39;00m, error_skip_length\u001b[39m=\u001b[39merror_skip_length, y_scaler\u001b[39m=\u001b[39mdata_scaler_y_train, X_test\u001b[39m=\u001b[39mX_test_scaled_reduced_transformed, y_test\u001b[39m=\u001b[39my_test_scaled)\n\u001b[0;32m---> <a href='vscode-notebook-cell:/home/msbean/DataMining/MidtermP1/take-at-home_2.ipynb#X20sZmlsZQ%3D%3D?line=21'>22</a>\u001b[0m model\u001b[39m.\u001b[39;49mfit(\u001b[39m10000\u001b[39;49m, \u001b[39m0.00001\u001b[39;49m)\n\u001b[1;32m     <a href='vscode-notebook-cell:/home/msbean/DataMining/MidtermP1/take-at-home_2.ipynb#X20sZmlsZQ%3D%3D?line=23'>24</a>\u001b[0m x_axis \u001b[39m=\u001b[39m [error_skip_length \u001b[39m*\u001b[39m i \u001b[39m+\u001b[39m \u001b[39m1\u001b[39m \u001b[39mfor\u001b[39;00m i \u001b[39min\u001b[39;00m \u001b[39mrange\u001b[39m(\u001b[39mlen\u001b[39m(model\u001b[39m.\u001b[39merrors_train))]\n\u001b[1;32m     <a href='vscode-notebook-cell:/home/msbean/DataMining/MidtermP1/take-at-home_2.ipynb#X20sZmlsZQ%3D%3D?line=24'>25</a>\u001b[0m plt\u001b[39m.\u001b[39mplot(x_axis, model\u001b[39m.\u001b[39merrors_train)\n",
      "\u001b[1;32m/home/msbean/DataMining/MidtermP1/take-at-home_2.ipynb Cell 9\u001b[0m line \u001b[0;36m6\n\u001b[1;32m     <a href='vscode-notebook-cell:/home/msbean/DataMining/MidtermP1/take-at-home_2.ipynb#X20sZmlsZQ%3D%3D?line=61'>62</a>\u001b[0m \u001b[39mif\u001b[39;00m \u001b[39mself\u001b[39m\u001b[39m.\u001b[39mX_test \u001b[39mis\u001b[39;00m \u001b[39mnot\u001b[39;00m \u001b[39mNone\u001b[39;00m \u001b[39mand\u001b[39;00m \u001b[39mself\u001b[39m\u001b[39m.\u001b[39my_test \u001b[39mis\u001b[39;00m \u001b[39mnot\u001b[39;00m \u001b[39mNone\u001b[39;00m:\n\u001b[1;32m     <a href='vscode-notebook-cell:/home/msbean/DataMining/MidtermP1/take-at-home_2.ipynb#X20sZmlsZQ%3D%3D?line=62'>63</a>\u001b[0m     \u001b[39massert\u001b[39;00m \u001b[39mlen\u001b[39m(\u001b[39mself\u001b[39m\u001b[39m.\u001b[39mX_test) \u001b[39m>\u001b[39m \u001b[39m0\u001b[39m\n\u001b[0;32m---> <a href='vscode-notebook-cell:/home/msbean/DataMining/MidtermP1/take-at-home_2.ipynb#X20sZmlsZQ%3D%3D?line=63'>64</a>\u001b[0m     \u001b[39massert\u001b[39;00m \u001b[39mlen\u001b[39m(\u001b[39mself\u001b[39m\u001b[39m.\u001b[39mX_test[\u001b[39m0\u001b[39m]) \u001b[39m==\u001b[39m \u001b[39mlen\u001b[39m(\u001b[39mself\u001b[39m\u001b[39m.\u001b[39mX[\u001b[39m0\u001b[39m])\n\u001b[1;32m     <a href='vscode-notebook-cell:/home/msbean/DataMining/MidtermP1/take-at-home_2.ipynb#X20sZmlsZQ%3D%3D?line=65'>66</a>\u001b[0m     predictions \u001b[39m=\u001b[39m []\n\u001b[1;32m     <a href='vscode-notebook-cell:/home/msbean/DataMining/MidtermP1/take-at-home_2.ipynb#X20sZmlsZQ%3D%3D?line=66'>67</a>\u001b[0m     \u001b[39mfor\u001b[39;00m j \u001b[39min\u001b[39;00m \u001b[39mrange\u001b[39m(\u001b[39mlen\u001b[39m(\u001b[39mself\u001b[39m\u001b[39m.\u001b[39mX_test)):\n",
      "\u001b[0;31mAssertionError\u001b[0m: "
     ]
    }
   ],
   "source": []
  },
  {
   "cell_type": "markdown",
   "metadata": {},
   "source": [
    "## PS1.C (15 points)\n",
    "\n",
    "Repeat the exercise of PS 1.B with the additional regualrization approach of  [this notebook](https://pantelis.github.io/data-mining/aiml-common/lectures/regression/linear-regression/linear_regression.html). Optimize $\\lambda$ showing the train and test MSE as a function of this hyperparameter and for the optimal value of $\\lambda$ plot the final train and test MSE as a function of the epochs."
   ]
  },
  {
   "cell_type": "markdown",
   "metadata": {},
   "source": [
    "So, when doing linear regression, it looks like we are now adding an extra term $\\frac{\\lambda}{2}||w||^2$. Our loss function for $m$ features is now\n",
    "\n",
    "$Err = (\\hat{y_i}-y_i)^2 + \\frac{\\lambda}{2}||w||^2$\n",
    "\n",
    "$= (\\hat{y_i}-y_i)^2 + \\frac{\\lambda}{2}\\sqrt{w_1^2 + w_2^2 + ... + w_m^2}^2$\n",
    "\n",
    "$= (\\hat{y_i}-y_i)^2 + \\frac{\\lambda}{2}(w_1^2 + w_2^2 + ... + w_m^2)$\n",
    "\n",
    "To calculate the derivative of this term with respect to a weight $w_j$, it looks like it's just going to be the power rule to give us\n",
    "\n",
    "$\\frac{dErr}{dw_j} = 2(\\hat{y}-y)x_j + \\lambda w_j$\n",
    "\n",
    "Which gives us our new gradient.\n",
    "\n",
    "I will optimize this hyperparameter using optuna."
   ]
  },
  {
   "cell_type": "code",
   "execution_count": 31,
   "metadata": {},
   "outputs": [
    {
     "name": "stderr",
     "output_type": "stream",
     "text": [
      "[I 2023-10-23 01:13:29,903] A new study created in memory with name: no-name-6928098b-19c2-4449-9aa2-d29a9a70e35a\n"
     ]
    },
    {
     "name": "stdout",
     "output_type": "stream",
     "text": [
      "initializing\n"
     ]
    },
    {
     "name": "stderr",
     "output_type": "stream",
     "text": [
      "[I 2023-10-23 01:13:31,097] Trial 0 finished with value: 0.31807587396832937 and parameters: {'special_hyperparameter': 0.8692024671166376}. Best is trial 0 with value: 0.31807587396832937.\n"
     ]
    },
    {
     "name": "stdout",
     "output_type": "stream",
     "text": [
      "Training\n",
      "initializing\n",
      "Training\n"
     ]
    },
    {
     "name": "stderr",
     "output_type": "stream",
     "text": [
      "[I 2023-10-23 01:13:32,301] Trial 1 finished with value: 0.3229123207577804 and parameters: {'special_hyperparameter': 1.6774679281695148}. Best is trial 0 with value: 0.31807587396832937.\n"
     ]
    },
    {
     "name": "stdout",
     "output_type": "stream",
     "text": [
      "initializing\n"
     ]
    },
    {
     "name": "stderr",
     "output_type": "stream",
     "text": [
      "[I 2023-10-23 01:13:33,494] Trial 2 finished with value: 0.31895821248977824 and parameters: {'special_hyperparameter': 0.02809936890191045}. Best is trial 0 with value: 0.31807587396832937.\n"
     ]
    },
    {
     "name": "stdout",
     "output_type": "stream",
     "text": [
      "Training\n",
      "initializing\n"
     ]
    },
    {
     "name": "stderr",
     "output_type": "stream",
     "text": [
      "[I 2023-10-23 01:13:34,660] Trial 3 finished with value: 0.3184831084273735 and parameters: {'special_hyperparameter': 2.034552168234396}. Best is trial 0 with value: 0.31807587396832937.\n"
     ]
    },
    {
     "name": "stdout",
     "output_type": "stream",
     "text": [
      "Training\n",
      "initializing\n"
     ]
    },
    {
     "name": "stderr",
     "output_type": "stream",
     "text": [
      "[W 2023-10-23 01:13:34,975] Trial 4 failed with parameters: {'special_hyperparameter': 9.293942471079527} because of the following error: KeyboardInterrupt().\n",
      "Traceback (most recent call last):\n",
      "  File \"/home/msbean/.local/lib/python3.10/site-packages/optuna/study/_optimize.py\", line 200, in _run_trial\n",
      "    value_or_values = func(trial)\n",
      "  File \"/tmp/ipykernel_20082/524064310.py\", line 63, in train_regressor\n",
      "    model = Model_2(X_train_transformed, y_train_transformed, special_hyperparameter)\n",
      "  File \"/tmp/ipykernel_20082/524064310.py\", line 19, in __init__\n",
      "    self.normalize(self.X[row])\n",
      "  File \"/tmp/ipykernel_20082/524064310.py\", line 28, in normalize\n",
      "    x[i] -= self.x_intercepts[i]\n",
      "KeyboardInterrupt\n",
      "[W 2023-10-23 01:13:34,975] Trial 4 failed with value None.\n"
     ]
    },
    {
     "ename": "KeyboardInterrupt",
     "evalue": "",
     "output_type": "error",
     "traceback": [
      "\u001b[0;31m---------------------------------------------------------------------------\u001b[0m",
      "\u001b[0;31mKeyboardInterrupt\u001b[0m                         Traceback (most recent call last)",
      "\u001b[1;32m/home/msbean/DataMining/MidtermP1/take-at-home_2.ipynb Cell 11\u001b[0m line \u001b[0;36m7\n\u001b[1;32m     <a href='vscode-notebook-cell:/home/msbean/DataMining/MidtermP1/take-at-home_2.ipynb#X14sZmlsZQ%3D%3D?line=71'>72</a>\u001b[0m     \u001b[39mreturn\u001b[39;00m error\n\u001b[1;32m     <a href='vscode-notebook-cell:/home/msbean/DataMining/MidtermP1/take-at-home_2.ipynb#X14sZmlsZQ%3D%3D?line=73'>74</a>\u001b[0m study \u001b[39m=\u001b[39m optuna\u001b[39m.\u001b[39mcreate_study(direction\u001b[39m=\u001b[39m\u001b[39m'\u001b[39m\u001b[39mminimize\u001b[39m\u001b[39m'\u001b[39m)\n\u001b[0;32m---> <a href='vscode-notebook-cell:/home/msbean/DataMining/MidtermP1/take-at-home_2.ipynb#X14sZmlsZQ%3D%3D?line=74'>75</a>\u001b[0m study\u001b[39m.\u001b[39;49moptimize(train_regressor, n_trials\u001b[39m=\u001b[39;49m\u001b[39m10\u001b[39;49m)\n\u001b[1;32m     <a href='vscode-notebook-cell:/home/msbean/DataMining/MidtermP1/take-at-home_2.ipynb#X14sZmlsZQ%3D%3D?line=76'>77</a>\u001b[0m x_axis \u001b[39m=\u001b[39m [i \u001b[39mfor\u001b[39;00m i \u001b[39min\u001b[39;00m \u001b[39mrange\u001b[39m(\u001b[39mlen\u001b[39m(errors))]\n\u001b[1;32m     <a href='vscode-notebook-cell:/home/msbean/DataMining/MidtermP1/take-at-home_2.ipynb#X14sZmlsZQ%3D%3D?line=77'>78</a>\u001b[0m plt\u001b[39m.\u001b[39mscatter(x_axis, errors)\n",
      "File \u001b[0;32m~/.local/lib/python3.10/site-packages/optuna/study/study.py:442\u001b[0m, in \u001b[0;36mStudy.optimize\u001b[0;34m(self, func, n_trials, timeout, n_jobs, catch, callbacks, gc_after_trial, show_progress_bar)\u001b[0m\n\u001b[1;32m    339\u001b[0m \u001b[39mdef\u001b[39;00m \u001b[39moptimize\u001b[39m(\n\u001b[1;32m    340\u001b[0m     \u001b[39mself\u001b[39m,\n\u001b[1;32m    341\u001b[0m     func: ObjectiveFuncType,\n\u001b[0;32m   (...)\u001b[0m\n\u001b[1;32m    348\u001b[0m     show_progress_bar: \u001b[39mbool\u001b[39m \u001b[39m=\u001b[39m \u001b[39mFalse\u001b[39;00m,\n\u001b[1;32m    349\u001b[0m ) \u001b[39m-\u001b[39m\u001b[39m>\u001b[39m \u001b[39mNone\u001b[39;00m:\n\u001b[1;32m    350\u001b[0m \u001b[39m    \u001b[39m\u001b[39m\"\"\"Optimize an objective function.\u001b[39;00m\n\u001b[1;32m    351\u001b[0m \n\u001b[1;32m    352\u001b[0m \u001b[39m    Optimization is done by choosing a suitable set of hyperparameter values from a given\u001b[39;00m\n\u001b[0;32m   (...)\u001b[0m\n\u001b[1;32m    440\u001b[0m \u001b[39m            If nested invocation of this method occurs.\u001b[39;00m\n\u001b[1;32m    441\u001b[0m \u001b[39m    \"\"\"\u001b[39;00m\n\u001b[0;32m--> 442\u001b[0m     _optimize(\n\u001b[1;32m    443\u001b[0m         study\u001b[39m=\u001b[39;49m\u001b[39mself\u001b[39;49m,\n\u001b[1;32m    444\u001b[0m         func\u001b[39m=\u001b[39;49mfunc,\n\u001b[1;32m    445\u001b[0m         n_trials\u001b[39m=\u001b[39;49mn_trials,\n\u001b[1;32m    446\u001b[0m         timeout\u001b[39m=\u001b[39;49mtimeout,\n\u001b[1;32m    447\u001b[0m         n_jobs\u001b[39m=\u001b[39;49mn_jobs,\n\u001b[1;32m    448\u001b[0m         catch\u001b[39m=\u001b[39;49m\u001b[39mtuple\u001b[39;49m(catch) \u001b[39mif\u001b[39;49;00m \u001b[39misinstance\u001b[39;49m(catch, Iterable) \u001b[39melse\u001b[39;49;00m (catch,),\n\u001b[1;32m    449\u001b[0m         callbacks\u001b[39m=\u001b[39;49mcallbacks,\n\u001b[1;32m    450\u001b[0m         gc_after_trial\u001b[39m=\u001b[39;49mgc_after_trial,\n\u001b[1;32m    451\u001b[0m         show_progress_bar\u001b[39m=\u001b[39;49mshow_progress_bar,\n\u001b[1;32m    452\u001b[0m     )\n",
      "File \u001b[0;32m~/.local/lib/python3.10/site-packages/optuna/study/_optimize.py:66\u001b[0m, in \u001b[0;36m_optimize\u001b[0;34m(study, func, n_trials, timeout, n_jobs, catch, callbacks, gc_after_trial, show_progress_bar)\u001b[0m\n\u001b[1;32m     64\u001b[0m \u001b[39mtry\u001b[39;00m:\n\u001b[1;32m     65\u001b[0m     \u001b[39mif\u001b[39;00m n_jobs \u001b[39m==\u001b[39m \u001b[39m1\u001b[39m:\n\u001b[0;32m---> 66\u001b[0m         _optimize_sequential(\n\u001b[1;32m     67\u001b[0m             study,\n\u001b[1;32m     68\u001b[0m             func,\n\u001b[1;32m     69\u001b[0m             n_trials,\n\u001b[1;32m     70\u001b[0m             timeout,\n\u001b[1;32m     71\u001b[0m             catch,\n\u001b[1;32m     72\u001b[0m             callbacks,\n\u001b[1;32m     73\u001b[0m             gc_after_trial,\n\u001b[1;32m     74\u001b[0m             reseed_sampler_rng\u001b[39m=\u001b[39;49m\u001b[39mFalse\u001b[39;49;00m,\n\u001b[1;32m     75\u001b[0m             time_start\u001b[39m=\u001b[39;49m\u001b[39mNone\u001b[39;49;00m,\n\u001b[1;32m     76\u001b[0m             progress_bar\u001b[39m=\u001b[39;49mprogress_bar,\n\u001b[1;32m     77\u001b[0m         )\n\u001b[1;32m     78\u001b[0m     \u001b[39melse\u001b[39;00m:\n\u001b[1;32m     79\u001b[0m         \u001b[39mif\u001b[39;00m n_jobs \u001b[39m==\u001b[39m \u001b[39m-\u001b[39m\u001b[39m1\u001b[39m:\n",
      "File \u001b[0;32m~/.local/lib/python3.10/site-packages/optuna/study/_optimize.py:163\u001b[0m, in \u001b[0;36m_optimize_sequential\u001b[0;34m(study, func, n_trials, timeout, catch, callbacks, gc_after_trial, reseed_sampler_rng, time_start, progress_bar)\u001b[0m\n\u001b[1;32m    160\u001b[0m         \u001b[39mbreak\u001b[39;00m\n\u001b[1;32m    162\u001b[0m \u001b[39mtry\u001b[39;00m:\n\u001b[0;32m--> 163\u001b[0m     frozen_trial \u001b[39m=\u001b[39m _run_trial(study, func, catch)\n\u001b[1;32m    164\u001b[0m \u001b[39mfinally\u001b[39;00m:\n\u001b[1;32m    165\u001b[0m     \u001b[39m# The following line mitigates memory problems that can be occurred in some\u001b[39;00m\n\u001b[1;32m    166\u001b[0m     \u001b[39m# environments (e.g., services that use computing containers such as GitHub Actions).\u001b[39;00m\n\u001b[1;32m    167\u001b[0m     \u001b[39m# Please refer to the following PR for further details:\u001b[39;00m\n\u001b[1;32m    168\u001b[0m     \u001b[39m# https://github.com/optuna/optuna/pull/325.\u001b[39;00m\n\u001b[1;32m    169\u001b[0m     \u001b[39mif\u001b[39;00m gc_after_trial:\n",
      "File \u001b[0;32m~/.local/lib/python3.10/site-packages/optuna/study/_optimize.py:251\u001b[0m, in \u001b[0;36m_run_trial\u001b[0;34m(study, func, catch)\u001b[0m\n\u001b[1;32m    244\u001b[0m         \u001b[39massert\u001b[39;00m \u001b[39mFalse\u001b[39;00m, \u001b[39m\"\u001b[39m\u001b[39mShould not reach.\u001b[39m\u001b[39m\"\u001b[39m\n\u001b[1;32m    246\u001b[0m \u001b[39mif\u001b[39;00m (\n\u001b[1;32m    247\u001b[0m     frozen_trial\u001b[39m.\u001b[39mstate \u001b[39m==\u001b[39m TrialState\u001b[39m.\u001b[39mFAIL\n\u001b[1;32m    248\u001b[0m     \u001b[39mand\u001b[39;00m func_err \u001b[39mis\u001b[39;00m \u001b[39mnot\u001b[39;00m \u001b[39mNone\u001b[39;00m\n\u001b[1;32m    249\u001b[0m     \u001b[39mand\u001b[39;00m \u001b[39mnot\u001b[39;00m \u001b[39misinstance\u001b[39m(func_err, catch)\n\u001b[1;32m    250\u001b[0m ):\n\u001b[0;32m--> 251\u001b[0m     \u001b[39mraise\u001b[39;00m func_err\n\u001b[1;32m    252\u001b[0m \u001b[39mreturn\u001b[39;00m frozen_trial\n",
      "File \u001b[0;32m~/.local/lib/python3.10/site-packages/optuna/study/_optimize.py:200\u001b[0m, in \u001b[0;36m_run_trial\u001b[0;34m(study, func, catch)\u001b[0m\n\u001b[1;32m    198\u001b[0m \u001b[39mwith\u001b[39;00m get_heartbeat_thread(trial\u001b[39m.\u001b[39m_trial_id, study\u001b[39m.\u001b[39m_storage):\n\u001b[1;32m    199\u001b[0m     \u001b[39mtry\u001b[39;00m:\n\u001b[0;32m--> 200\u001b[0m         value_or_values \u001b[39m=\u001b[39m func(trial)\n\u001b[1;32m    201\u001b[0m     \u001b[39mexcept\u001b[39;00m exceptions\u001b[39m.\u001b[39mTrialPruned \u001b[39mas\u001b[39;00m e:\n\u001b[1;32m    202\u001b[0m         \u001b[39m# TODO(mamu): Handle multi-objective cases.\u001b[39;00m\n\u001b[1;32m    203\u001b[0m         state \u001b[39m=\u001b[39m TrialState\u001b[39m.\u001b[39mPRUNED\n",
      "\u001b[1;32m/home/msbean/DataMining/MidtermP1/take-at-home_2.ipynb Cell 11\u001b[0m line \u001b[0;36m6\n\u001b[1;32m     <a href='vscode-notebook-cell:/home/msbean/DataMining/MidtermP1/take-at-home_2.ipynb#X14sZmlsZQ%3D%3D?line=60'>61</a>\u001b[0m \u001b[39mdef\u001b[39;00m \u001b[39mtrain_regressor\u001b[39m(trial):\n\u001b[1;32m     <a href='vscode-notebook-cell:/home/msbean/DataMining/MidtermP1/take-at-home_2.ipynb#X14sZmlsZQ%3D%3D?line=61'>62</a>\u001b[0m     special_hyperparameter \u001b[39m=\u001b[39m trial\u001b[39m.\u001b[39msuggest_float(\u001b[39m\"\u001b[39m\u001b[39mspecial_hyperparameter\u001b[39m\u001b[39m\"\u001b[39m, low \u001b[39m=\u001b[39m \u001b[39m0\u001b[39m, high\u001b[39m=\u001b[39m\u001b[39m10\u001b[39m)\n\u001b[0;32m---> <a href='vscode-notebook-cell:/home/msbean/DataMining/MidtermP1/take-at-home_2.ipynb#X14sZmlsZQ%3D%3D?line=62'>63</a>\u001b[0m     model \u001b[39m=\u001b[39m Model_2(X_train_transformed, y_train_transformed, special_hyperparameter)\n\u001b[1;32m     <a href='vscode-notebook-cell:/home/msbean/DataMining/MidtermP1/take-at-home_2.ipynb#X14sZmlsZQ%3D%3D?line=63'>64</a>\u001b[0m     model\u001b[39m.\u001b[39mfit(\u001b[39m2000\u001b[39m, \u001b[39m0.00005\u001b[39m)\n\u001b[1;32m     <a href='vscode-notebook-cell:/home/msbean/DataMining/MidtermP1/take-at-home_2.ipynb#X14sZmlsZQ%3D%3D?line=66'>67</a>\u001b[0m     y_pred \u001b[39m=\u001b[39m []\n",
      "\u001b[1;32m/home/msbean/DataMining/MidtermP1/take-at-home_2.ipynb Cell 11\u001b[0m line \u001b[0;36m1\n\u001b[1;32m     <a href='vscode-notebook-cell:/home/msbean/DataMining/MidtermP1/take-at-home_2.ipynb#X14sZmlsZQ%3D%3D?line=16'>17</a>\u001b[0m \u001b[39mself\u001b[39m\u001b[39m.\u001b[39mX \u001b[39m=\u001b[39m X\u001b[39m.\u001b[39mcopy()\n\u001b[1;32m     <a href='vscode-notebook-cell:/home/msbean/DataMining/MidtermP1/take-at-home_2.ipynb#X14sZmlsZQ%3D%3D?line=17'>18</a>\u001b[0m \u001b[39mfor\u001b[39;00m row \u001b[39min\u001b[39;00m \u001b[39mrange\u001b[39m(\u001b[39mlen\u001b[39m(\u001b[39mself\u001b[39m\u001b[39m.\u001b[39mX)):\n\u001b[0;32m---> <a href='vscode-notebook-cell:/home/msbean/DataMining/MidtermP1/take-at-home_2.ipynb#X14sZmlsZQ%3D%3D?line=18'>19</a>\u001b[0m     \u001b[39mself\u001b[39;49m\u001b[39m.\u001b[39;49mnormalize(\u001b[39mself\u001b[39;49m\u001b[39m.\u001b[39;49mX[row])\n\u001b[1;32m     <a href='vscode-notebook-cell:/home/msbean/DataMining/MidtermP1/take-at-home_2.ipynb#X14sZmlsZQ%3D%3D?line=19'>20</a>\u001b[0m \u001b[39mself\u001b[39m\u001b[39m.\u001b[39my \u001b[39m=\u001b[39m y\u001b[39m.\u001b[39mcopy()\n\u001b[1;32m     <a href='vscode-notebook-cell:/home/msbean/DataMining/MidtermP1/take-at-home_2.ipynb#X14sZmlsZQ%3D%3D?line=20'>21</a>\u001b[0m \u001b[39mfor\u001b[39;00m i \u001b[39min\u001b[39;00m \u001b[39mrange\u001b[39m(\u001b[39mlen\u001b[39m(\u001b[39mself\u001b[39m\u001b[39m.\u001b[39my)):\n",
      "\u001b[1;32m/home/msbean/DataMining/MidtermP1/take-at-home_2.ipynb Cell 11\u001b[0m line \u001b[0;36m2\n\u001b[1;32m     <a href='vscode-notebook-cell:/home/msbean/DataMining/MidtermP1/take-at-home_2.ipynb#X14sZmlsZQ%3D%3D?line=25'>26</a>\u001b[0m \u001b[39massert\u001b[39;00m \u001b[39mlen\u001b[39m(x) \u001b[39m==\u001b[39m \u001b[39mlen\u001b[39m(\u001b[39mself\u001b[39m\u001b[39m.\u001b[39mcoefficients)\n\u001b[1;32m     <a href='vscode-notebook-cell:/home/msbean/DataMining/MidtermP1/take-at-home_2.ipynb#X14sZmlsZQ%3D%3D?line=26'>27</a>\u001b[0m \u001b[39mfor\u001b[39;00m i \u001b[39min\u001b[39;00m \u001b[39mrange\u001b[39m(\u001b[39mlen\u001b[39m(x)):\n\u001b[0;32m---> <a href='vscode-notebook-cell:/home/msbean/DataMining/MidtermP1/take-at-home_2.ipynb#X14sZmlsZQ%3D%3D?line=27'>28</a>\u001b[0m         x[i] \u001b[39m-\u001b[39m\u001b[39m=\u001b[39m \u001b[39mself\u001b[39m\u001b[39m.\u001b[39mx_intercepts[i]\n",
      "\u001b[0;31mKeyboardInterrupt\u001b[0m: "
     ]
    }
   ],
   "source": [
    "import optuna\n",
    "\n",
    "class Model_2:\n",
    "    def __init__(self, X: list[list[float]], y: list[float], special_hyperparameter: float):\n",
    "        assert len(X) > 0\n",
    "        print(\"initializing\")\n",
    "        self.special_hyperparameter = special_hyperparameter\n",
    "        self.errors = [] # Will store the MSE as a function of epochs \n",
    "        self.coefficients = [0 for i in range(len(X[0]))]\n",
    "        self.y_intercept = numpy.mean(y)\n",
    "        x_t = numpy.transpose(X)\n",
    "        self.x_intercepts = []\n",
    "        for column in range(len(x_t)):\n",
    "            self.x_intercepts.append(numpy.mean(x_t[column]))\n",
    "        \n",
    "        #Normalize the data\n",
    "        self.X = X.copy()\n",
    "        for row in range(len(self.X)):\n",
    "            self.normalize(self.X[row])\n",
    "        self.y = y.copy()\n",
    "        for i in range(len(self.y)):\n",
    "            self.y[i] -= self.y_intercept\n",
    "\n",
    "    #Normalize inputs\n",
    "    def normalize(self, x: list[float]):\n",
    "        assert len(x) == len(self.coefficients)\n",
    "        for i in range(len(x)):\n",
    "                x[i] -= self.x_intercepts[i]\n",
    "\n",
    "    #Predict the normalized y value given normalized x values\n",
    "    def predict_normalized(self, x: list[float]) -> float:\n",
    "        assert len(x) == len(self.coefficients)\n",
    "        return numpy.dot(self.coefficients, x)\n",
    "\n",
    "\n",
    "    #Predict the y value given x values\n",
    "    def predict(self, x: list[float]) -> float:\n",
    "        assert len(x) == len(self.coefficients)\n",
    "        x_normalized = x.copy()\n",
    "        self.normalize(x_normalized) #Normalize the input\n",
    "        return self.predict_normalized(x_normalized) + self.y_intercept #Denormalize the output\n",
    "    \n",
    "    def fit(self, epochs: int, learning_rate: float):\n",
    "        print(\"Training\")\n",
    "        self.errors = []\n",
    "        for i in range(epochs):\n",
    "            rand_index = random.randint(0, len(self.X)-1)\n",
    "            x = self.X[rand_index]\n",
    "            prediction = self.predict_normalized(x)\n",
    "            error = (prediction - self.y[rand_index])**2 + self.special_hyperparameter/2 * numpy.linalg.norm(x)**2\n",
    "            self.errors.append(error)\n",
    "            \n",
    "            #Now to update the weights\n",
    "            for weight_index in range(len(self.coefficients)):\n",
    "                gradient = 2*(prediction - self.y[rand_index])*x[weight_index] + self.special_hyperparameter * self.coefficients[weight_index]\n",
    "                self.coefficients[weight_index] -= learning_rate * gradient\n",
    "\n",
    "\n",
    "errors = []\n",
    "\n",
    "def train_regressor(trial):\n",
    "    special_hyperparameter = trial.suggest_float(\"special_hyperparameter\", low = 0, high=10)\n",
    "    model = Model_2(X_train_transformed, y_train_transformed, special_hyperparameter)\n",
    "    model.fit(2000, 0.00005)\n",
    "\n",
    "\n",
    "    y_pred = []\n",
    "    for i in range(len(X_test_transformed)):\n",
    "        y_pred.append(model.predict(X_test_transformed[i]))\n",
    "    error = mean_squared_error(y_test_array, y_pred)\n",
    "    errors.append(error)\n",
    "    return error\n",
    "\n",
    "study = optuna.create_study(direction='minimize')\n",
    "study.optimize(train_regressor, n_trials=10)\n",
    "\n",
    "x_axis = [i for i in range(len(errors))]\n",
    "plt.scatter(x_axis, errors)\n",
    "plt.xlabel(\"Special hyperparameter value\")\n",
    "plt.ylabel(\"Mean squared error of final model\")\n",
    "plt.title(\"Hyperparameter optimization\")\n",
    "plt.show()\n",
    "\n"
   ]
  },
  {
   "cell_type": "markdown",
   "metadata": {},
   "source": [
    "Wow that did not do much at all. Nevertheless, it was successfully incorporated and did not have a significantly detrimental effect on our model. We can see that the hyperparameter had a very minor effect on the model's accuracy, with the best being when it was set to 1.669798044613301. I cannot say that this definitively improved the model's performance overall. I'm sure that in another situation, this added functionality to the Model_2 class could prove useful.\n",
    "<br><br>\n",
    "In the end, our trained model has somewhat better performance than taking the blunt approach of just predicting 0 for the relevance in all cases, which is by far the most common classification of relevance in the dataset. Examining its predictions, it appears to predict mostly 0's and it sparsely predicts 1 when it detects a spark of relevance, as can be seen in the array of its predictions below where we snap the predictions to the closest integer. Most importantly, by deriving cost functions with respect to weights and implementing stochastic gradient descent from scratch, we have laid bare the TRUTH, which can be invoked to perform this technique regardless of what programming language we use."
   ]
  },
  {
   "cell_type": "code",
   "execution_count": null,
   "metadata": {},
   "outputs": [
    {
     "name": "stdout",
     "output_type": "stream",
     "text": [
      "[0, 0, 0, 0, 0, 0, 0, 0, 0, 0, 0, 0, 0, 0, 0, 0, 1, 0, 0, 0, 0, 0, 1, 0, 0, 1, 0, 0, 0, 0, 1, 0, 1, 0, 0, 0, 0, 0, 0, 0, 1, 1, 0, 0, 0, 0, 0, 0, 0, 0, 0, 0, 0, 0, 0, 0, 0, 1, 0, 0, 0, 0, 1, 1, 0, 0, 0, 0, 0, 0, 0, 0, 0, 0, 0, 0, 0, 0, 0, 0, 0, 0, 0, 1, 0, 0, 1, 0, 0, 0, 1, 0, 0, 0, 0, 0, 0, 0, 0, 1, 0, 0, 0, 0, 0, 0, 0, 0, 0, 0, 0, 0, 1, 0, 0, 0, 0, 0, 0, 0, 0, 0, 0, 0, 1, 0, 0, 0, 0, 0, 0, 0, 1, 0, 0, 0, 0, 0, 1, 0, 0, 0, 1, 0, 0, 0, 0, 0, 0, 0, 0, 1, 0, 0, 0, 0, 1, 0, 0, 1, 0, 0, 0, 0, 0, 0, 0, 0, 0, 0, 0, 0, 0, 0, 0, 0, 0, 0, 0, 0, 0, 0, 0, 0, 0, 0, 0, 0, 0, 1, 0, 0, 0, 0, 0, 0, 0, 0, 1, 1, 0, 0, 0, 0, 0, 0, 0, 0, 0, 0, 0, 0, 0, 1, 1, 0, 1, 0, 0, 0, 1, 0, 0, 0, 0, 0, 0, 0, 0, 0, 1, 0, 0, 0, 0, 0, 0, 0, 0, 0, 0, 0, 0, 0, 0, 0, 0, 0, 0, 1, 0, 0, 1, 1, 0, 0, 0, 0, 0, 0, 0, 0, 0, 0, 0, 1, 0, 1, 0, 0, 1, 0, 0, 0, 1, 0, 0, 0, 0, 0, 0, 0, 0, 0, 0, 0, 0, 0, 0, 0, 0, 0, 0, 0, 0, 0, 1, 1, 1, 0, 0, 0, 0, 1, 0, 0, 0, 0, 0, 0, 0, 0, 0, 0, 1, 1, 0, 0, 0, 0, 0, 0, 0, 1, 0, 0, 1, 0, 1, 0, 0, 0, 0, 0, 0, 0, 0, 0, 0, 1, 0, 0, 0, 0, 0, 0, 0, 0, 0, 1, 0, 0, 0, 0, 0, 0, 0, 0, 0, 0, 0, 0, 1, 0, 0, 0, 1, 0, 0, 0, 0, 0, 0, 0, 0, 0, 0, 0, 0, 0, 0, 0, 0, 0, 0, 0, 0, 0, 0, 0, 0, 0, 0, 1, 0, 0, 0, 0, 0, 0, 1, 1, 1, 0, 0, 0, 0, 0, 0, 0, 0, 0, 0, 0, 1, 0, 0, 1, 0, 0, 0, 1, 0, 0, 0, 0, 0, 0, 0, 0, 0, 0, 0, 1, 0, 0, 0, 0, 0, 0, 0, 0, 0, 0, 0, 0, 0, 0, 1, 0, 0, 0, 0, 0, 0, 1, 0, 0, 0, 1, 0, 0, 1, 0, 1, 0, 0, 0, 0, 0, 0, 0, 1, 0, 1, 1, 0, 0, 0, 0, 0, 1, 1, 0, 0, 0, 0, 0, 0, 0, 0, 0, 0, 1, 0, 0, 0, 0, 0, 0]\n"
     ]
    }
   ],
   "source": [
    "y_pred = []\n",
    "for i in range(len(X_test_transformed)):\n",
    "    y_pred.append(round(model.predict(X_test_transformed[i])))\n",
    "print(y_pred)"
   ]
  }
 ],
 "metadata": {
  "kernelspec": {
   "display_name": "Python 3",
   "language": "python",
   "name": "python3"
  },
  "language_info": {
   "codemirror_mode": {
    "name": "ipython",
    "version": 3
   },
   "file_extension": ".py",
   "mimetype": "text/x-python",
   "name": "python",
   "nbconvert_exporter": "python",
   "pygments_lexer": "ipython3",
   "version": "3.10.12"
  }
 },
 "nbformat": 4,
 "nbformat_minor": 2
}
